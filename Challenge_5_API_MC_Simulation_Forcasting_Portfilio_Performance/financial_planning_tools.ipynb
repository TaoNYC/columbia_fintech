{
 "cells": [
  {
   "cell_type": "markdown",
   "metadata": {},
   "source": [
    "# Financial Planning with APIs and Simulations\n",
    "\n",
    "In this Challenge, you’ll create two financial analysis tools by using a single Jupyter notebook:\n",
    "\n",
    "Part 1: A financial planner for emergencies. The members will be able to use this tool to visualize their current savings. The members can then determine if they have enough reserves for an emergency fund.\n",
    "\n",
    "Part 2: A financial planner for retirement. This tool will forecast the performance of their retirement portfolio in 30 years. To do this, the tool will make an Alpaca API call via the Alpaca SDK to get historical price data for use in Monte Carlo simulations.\n",
    "\n",
    "You’ll use the information from the Monte Carlo simulation to answer questions about the portfolio in your Jupyter notebook.\n",
    "\n"
   ]
  },
  {
   "cell_type": "code",
   "execution_count": 1,
   "metadata": {},
   "outputs": [],
   "source": [
    "# Import the required libraries and dependencies\n",
    "import os\n",
    "import requests\n",
    "import json\n",
    "import pandas as pd\n",
    "from dotenv import load_dotenv\n",
    "import alpaca_trade_api as tradeapi\n",
    "from MCForecastTools import MCSimulation\n",
    "\n",
    "%matplotlib inline"
   ]
  },
  {
   "cell_type": "code",
   "execution_count": null,
   "metadata": {},
   "outputs": [],
   "source": [
    "# Load the environment variables from the .env file\n",
    "#by calling the load_dotenv function\n",
    "load_dotenv('api.env')\n",
    "alpaca_api_key = os.getenv('ALPACA_API_KEY')\n",
    "alpaca_secret_key = os.getenv('ALPACA_SECRET_KEY')\n",
    "alpaca_secret_key"
   ]
  },
  {
   "cell_type": "markdown",
   "metadata": {},
   "source": [
    "## Part 1: Create a Financial Planner for Emergencies"
   ]
  },
  {
   "cell_type": "markdown",
   "metadata": {},
   "source": [
    "### Evaluate the Cryptocurrency Wallet by Using the Requests Library\n",
    "\n",
    "In this section, you’ll determine the current value of a member’s cryptocurrency wallet. You’ll collect the current prices for the Bitcoin and Ethereum cryptocurrencies by using the Python Requests library. For the prototype, you’ll assume that the member holds the 1.2 Bitcoins (BTC) and 5.3 Ethereum coins (ETH). To do all this, complete the following steps:\n",
    "\n",
    "1. Create a variable named `monthly_income`, and set its value to `12000`.\n",
    "\n",
    "2. Use the Requests library to get the current price (in US dollars) of Bitcoin (BTC) and Ethereum (ETH) by using the API endpoints that the starter code supplies.\n",
    "\n",
    "3. Navigate the JSON response object to access the current price of each coin, and store each in a variable.\n",
    "\n",
    "    > **Hint** Note the specific identifier for each cryptocurrency in the API JSON response. The Bitcoin identifier is `1`, and the Ethereum identifier is `1027`.\n",
    "\n",
    "4. Calculate the value, in US dollars, of the current amount of each cryptocurrency and of the entire cryptocurrency wallet.\n",
    "\n"
   ]
  },
  {
   "cell_type": "code",
   "execution_count": 3,
   "metadata": {},
   "outputs": [],
   "source": [
    "# The current number of coins for each cryptocurrency asset held in the portfolio.\n",
    "btc_coins = 1.2\n",
    "eth_coins = 5.3"
   ]
  },
  {
   "cell_type": "markdown",
   "metadata": {},
   "source": [
    "#### Step 1: Create a variable named `monthly_income`, and set its value to `12000`."
   ]
  },
  {
   "cell_type": "code",
   "execution_count": 4,
   "metadata": {},
   "outputs": [
    {
     "data": {
      "text/plain": [
       "12000"
      ]
     },
     "execution_count": 4,
     "metadata": {},
     "output_type": "execute_result"
    }
   ],
   "source": [
    "# The monthly amount for the member's household income\n",
    "# YOUR CODE HERE\n",
    "monthly_income = 12000\n",
    "monthly_income\n"
   ]
  },
  {
   "cell_type": "markdown",
   "metadata": {},
   "source": [
    "#### Review the endpoint URLs for the API calls to Free Crypto API in order to get the current pricing information for both BTC and ETH."
   ]
  },
  {
   "cell_type": "code",
   "execution_count": 5,
   "metadata": {},
   "outputs": [],
   "source": [
    "# The Free Crypto API Call endpoint URLs for the held cryptocurrency assets\n",
    "btc_url = \"https://api.alternative.me/v2/ticker/Bitcoin/?convert=USD\"\n",
    "eth_url = \"https://api.alternative.me/v2/ticker/Ethereum/?convert=USD\""
   ]
  },
  {
   "cell_type": "markdown",
   "metadata": {},
   "source": [
    "#### Step 2. Use the Requests library to get the current price (in US dollars) of Bitcoin (BTC) and Ethereum (ETH) by using the API endpoints that the starter code supplied."
   ]
  },
  {
   "cell_type": "code",
   "execution_count": 6,
   "metadata": {},
   "outputs": [
    {
     "name": "stdout",
     "output_type": "stream",
     "text": [
      "{\n",
      "    \"data\": {\n",
      "        \"1\": {\n",
      "            \"circulating_supply\": 19018318,\n",
      "            \"id\": 1,\n",
      "            \"last_updated\": 1650580087,\n",
      "            \"max_supply\": 21000000,\n",
      "            \"name\": \"Bitcoin\",\n",
      "            \"quotes\": {\n",
      "                \"USD\": {\n",
      "                    \"market_cap\": 776016453128,\n",
      "                    \"percent_change_1h\": -0.135832609207401,\n",
      "                    \"percent_change_24h\": -1.99988427623569,\n",
      "                    \"percent_change_7d\": -1.18006774979116,\n",
      "                    \"percentage_change_1h\": -0.135832609207401,\n",
      "                    \"percentage_change_24h\": -1.99988427623569,\n",
      "                    \"percentage_change_7d\": -1.18006774979116,\n",
      "                    \"price\": 40719.0,\n",
      "                    \"volume_24h\": 30256970496\n",
      "                }\n",
      "            },\n",
      "            \"rank\": 1,\n",
      "            \"symbol\": \"BTC\",\n",
      "            \"total_supply\": 19018318,\n",
      "            \"website_slug\": \"bitcoin\"\n",
      "        }\n",
      "    },\n",
      "    \"metadata\": {\n",
      "        \"error\": null,\n",
      "        \"num_cryptocurrencies\": 3106,\n",
      "        \"timestamp\": 1650580087\n",
      "    }\n",
      "}\n"
     ]
    }
   ],
   "source": [
    "# Using the Python requests library, make an API call to access the current price of BTC\n",
    "btc_response = requests.get(btc_url).json()\n",
    "\n",
    "# Use the json.dumps function to review the response data from the API call\n",
    "# Use the indent and sort_keys parameters to make the response object readable\n",
    "# YOUR CODE HERE\n",
    "print(json.dumps(btc_response,indent=4,sort_keys=True))\n"
   ]
  },
  {
   "cell_type": "code",
   "execution_count": 7,
   "metadata": {},
   "outputs": [
    {
     "name": "stdout",
     "output_type": "stream",
     "text": [
      "{\n",
      "    \"data\": {\n",
      "        \"1027\": {\n",
      "            \"circulating_supply\": 120474064,\n",
      "            \"id\": 1027,\n",
      "            \"last_updated\": 1650580068,\n",
      "            \"max_supply\": 0,\n",
      "            \"name\": \"Ethereum\",\n",
      "            \"quotes\": {\n",
      "                \"USD\": {\n",
      "                    \"market_cap\": 362616826927,\n",
      "                    \"percent_change_1h\": 0.0379228219749925,\n",
      "                    \"percent_change_24h\": -2.68896264490062,\n",
      "                    \"percent_change_7d\": -3.61677973791176,\n",
      "                    \"percentage_change_1h\": 0.0379228219749925,\n",
      "                    \"percentage_change_24h\": -2.68896264490062,\n",
      "                    \"percentage_change_7d\": -3.61677973791176,\n",
      "                    \"price\": 3008.51,\n",
      "                    \"volume_24h\": 19624571582\n",
      "                }\n",
      "            },\n",
      "            \"rank\": 2,\n",
      "            \"symbol\": \"ETH\",\n",
      "            \"total_supply\": 120474064,\n",
      "            \"website_slug\": \"ethereum\"\n",
      "        }\n",
      "    },\n",
      "    \"metadata\": {\n",
      "        \"error\": null,\n",
      "        \"num_cryptocurrencies\": 3106,\n",
      "        \"timestamp\": 1650580068\n",
      "    }\n",
      "}\n"
     ]
    }
   ],
   "source": [
    "# Using the Python requests library, make an API call to access the current price ETH\n",
    "eth_response = requests.get(eth_url).json()\n",
    "\n",
    "# Use the json.dumps function to review the response data from the API call\n",
    "# Use the indent and sort_keys parameters to make the response object readable\n",
    "# YOUR CODE HERE\n",
    "print(json.dumps(eth_response,indent=4,sort_keys=True))\n",
    "\n"
   ]
  },
  {
   "cell_type": "markdown",
   "metadata": {},
   "source": [
    "#### Step 3: Navigate the JSON response object to access the current price of each coin, and store each in a variable."
   ]
  },
  {
   "cell_type": "code",
   "execution_count": 8,
   "metadata": {},
   "outputs": [
    {
     "data": {
      "text/plain": [
       "40719.0"
      ]
     },
     "execution_count": 8,
     "metadata": {},
     "output_type": "execute_result"
    }
   ],
   "source": [
    "# Navigate the BTC response object to access the current price of BTC\n",
    "btc_price = btc_response[\"data\"][\"1\"][\"quotes\"][\"USD\"][\"price\"]\n",
    "\n",
    "# Print the current price of BTC\n",
    "# YOUR CODE HERE\n",
    "btc_price\n"
   ]
  },
  {
   "cell_type": "code",
   "execution_count": 9,
   "metadata": {},
   "outputs": [
    {
     "data": {
      "text/plain": [
       "3008.51"
      ]
     },
     "execution_count": 9,
     "metadata": {},
     "output_type": "execute_result"
    }
   ],
   "source": [
    "# Navigate the BTC response object to access the current price of ETH\n",
    "eth_price = eth_response[\"data\"][\"1027\"][\"quotes\"][\"USD\"][\"price\"]\n",
    "# Print the current price of ETH\n",
    "# YOUR CODE HERE\n",
    "eth_price\n"
   ]
  },
  {
   "cell_type": "markdown",
   "metadata": {},
   "source": [
    "### Step 4: Calculate the value, in US dollars, of the current amount of each cryptocurrency and of the entire cryptocurrency wallet."
   ]
  },
  {
   "cell_type": "code",
   "execution_count": 10,
   "metadata": {},
   "outputs": [
    {
     "data": {
      "text/plain": [
       "48862.799999999996"
      ]
     },
     "execution_count": 10,
     "metadata": {},
     "output_type": "execute_result"
    }
   ],
   "source": [
    "# Compute the current value of the BTC holding \n",
    "btc_value = btc_price * btc_coins\n",
    "\n",
    "# Print current value of your holding in BTC\n",
    "# YOUR CODE HERE\n",
    "btc_value\n"
   ]
  },
  {
   "cell_type": "code",
   "execution_count": 11,
   "metadata": {},
   "outputs": [
    {
     "data": {
      "text/plain": [
       "15945.103000000001"
      ]
     },
     "execution_count": 11,
     "metadata": {},
     "output_type": "execute_result"
    }
   ],
   "source": [
    "# Compute the current value of the ETH holding \n",
    "eth_value = eth_price * eth_coins\n",
    "\n",
    "# Print current value of your holding in ETH\n",
    "# YOUR CODE HERE\n",
    "eth_value\n"
   ]
  },
  {
   "cell_type": "code",
   "execution_count": 12,
   "metadata": {},
   "outputs": [
    {
     "data": {
      "text/plain": [
       "64807.903"
      ]
     },
     "execution_count": 12,
     "metadata": {},
     "output_type": "execute_result"
    }
   ],
   "source": [
    "# Compute the total value of the cryptocurrency wallet\n",
    "# Add the value of the BTC holding to the value of the ETH holding\n",
    "total_crypto_wallet = btc_value + eth_value\n",
    "\n",
    "# Print current cryptocurrency wallet balance\n",
    "# YOUR CODE HERE\n",
    "total_crypto_wallet\n"
   ]
  },
  {
   "cell_type": "markdown",
   "metadata": {},
   "source": [
    "### Evaluate the Stock and Bond Holdings by Using the Alpaca SDK\n",
    "\n",
    "In this section, you’ll determine the current value of a member’s stock and bond holdings. You’ll make an API call to Alpaca via the Alpaca SDK to get the current closing prices of the SPDR S&P 500 ETF Trust (ticker: SPY) and of the iShares Core US Aggregate Bond ETF (ticker: AGG). For the prototype, assume that the member holds 110 shares of SPY, which represents the stock portion of their portfolio, and 200 shares of AGG, which represents the bond portion. To do all this, complete the following steps:\n",
    "\n",
    "1. In the `Starter_Code` folder, create an environment file (`.env`) to store the values of your Alpaca API key and Alpaca secret key.\n",
    "\n",
    "2. Set the variables for the Alpaca API and secret keys. Using the Alpaca SDK, create the Alpaca `tradeapi.REST` object. In this object, include the parameters for the Alpaca API key, the secret key, and the version number.\n",
    "\n",
    "3. Set the following parameters for the Alpaca API call:\n",
    "\n",
    "    - `tickers`: Use the tickers for the member’s stock and bond holdings.\n",
    "\n",
    "    - `timeframe`: Use a time frame of one day.\n",
    "\n",
    "    - `start_date` and `end_date`: Use the same date for these parameters, and format them with the date of the previous weekday (or `2020-08-07`). This is because you want the one closing price for the most-recent trading day.\n",
    "\n",
    "4. Get the current closing prices for `SPY` and `AGG` by using the Alpaca `get_bars` function. Format the response as a Pandas DataFrame by including the `df` property at the end of the `get_bars` function.\n",
    "\n",
    "5. Navigating the Alpaca response DataFrame, select the `SPY` and `AGG` closing prices, and store them as variables.\n",
    "\n",
    "6. Calculate the value, in US dollars, of the current amount of shares in each of the stock and bond portions of the portfolio, and print the results.\n"
   ]
  },
  {
   "cell_type": "markdown",
   "metadata": {},
   "source": [
    "#### Review the total number of shares held in both (SPY) and (AGG)."
   ]
  },
  {
   "cell_type": "code",
   "execution_count": 13,
   "metadata": {},
   "outputs": [],
   "source": [
    "# Current amount of shares held in both the stock (SPY) and bond (AGG) portion of the portfolio.\n",
    "spy_shares = 110\n",
    "agg_shares = 200\n"
   ]
  },
  {
   "cell_type": "markdown",
   "metadata": {},
   "source": [
    "#### Step 1: In the `Starter_Code` folder, create an environment file (`.env`) to store the values of your Alpaca API key and Alpaca secret key."
   ]
  },
  {
   "cell_type": "markdown",
   "metadata": {},
   "source": [
    "#### Step 2: Set the variables for the Alpaca API and secret keys. Using the Alpaca SDK, create the Alpaca `tradeapi.REST` object. In this object, include the parameters for the Alpaca API key, the secret key, and the version number."
   ]
  },
  {
   "cell_type": "code",
   "execution_count": 14,
   "metadata": {},
   "outputs": [],
   "source": [
    "# Set the variables for the Alpaca API and secret keys\n",
    "# YOUR CODE HERE\n",
    "# YOUR CODE HERE\n",
    "\n",
    "\n",
    "# Create the Alpaca tradeapi.REST object\n",
    "# YOUR CODE HERE\n",
    "alpaca = tradeapi.REST(alpaca_api_key,\n",
    "                      alpaca_secret_key,\n",
    "                      api_version=\"V2\")\n"
   ]
  },
  {
   "cell_type": "markdown",
   "metadata": {},
   "source": [
    "#### Step 3: Set the following parameters for the Alpaca API call:\n",
    "\n",
    "- `tickers`: Use the tickers for the member’s stock and bond holdings.\n",
    "\n",
    "- `timeframe`: Use a time frame of one day.\n",
    "\n",
    "- `start_date` and `end_date`: Use the same date for these parameters, and format them with the date of the previous weekday (or `2020-08-07`). This is because you want the one closing price for the most-recent trading day.\n"
   ]
  },
  {
   "cell_type": "code",
   "execution_count": 45,
   "metadata": {},
   "outputs": [],
   "source": [
    "# Set the tickers for both the bond and stock portion of the portfolio\n",
    "# YOUR CODE HERE\n",
    "tickers = [\"AGG\",\"SPY\"]\n",
    "\n",
    "# Set timeframe to 1Day\n",
    "# YOUR CODE HERE\n",
    "timeframe = \"1Day\"\n",
    "\n",
    "# Format current date as ISO format\n",
    "# Set both the start and end date at the date of your prior weekday \n",
    "# This will give you the closing price of the previous trading day\n",
    "# Alternatively you can use a start and end date of 2020-08-07\n",
    "# YOUR CODE HERE\n",
    "# YOUR CODE HERE\n",
    "start_date = pd.Timestamp(\"2022-04-21\",tz = \"America/New_York\").isoformat()\n",
    "end_date = pd.Timestamp(\"2022-04-21\",tz = \"America/New_York\").isoformat()\n",
    "\n"
   ]
  },
  {
   "cell_type": "markdown",
   "metadata": {},
   "source": [
    "#### Step 4: Get the current closing prices for `SPY` and `AGG` by using the Alpaca `get_bars` function. Format the response as a Pandas DataFrame by including the `df` property at the end of the `get_bars` function."
   ]
  },
  {
   "cell_type": "code",
   "execution_count": 46,
   "metadata": {},
   "outputs": [
    {
     "data": {
      "text/html": [
       "<div>\n",
       "<style scoped>\n",
       "    .dataframe tbody tr th:only-of-type {\n",
       "        vertical-align: middle;\n",
       "    }\n",
       "\n",
       "    .dataframe tbody tr th {\n",
       "        vertical-align: top;\n",
       "    }\n",
       "\n",
       "    .dataframe thead th {\n",
       "        text-align: right;\n",
       "    }\n",
       "</style>\n",
       "<table border=\"1\" class=\"dataframe\">\n",
       "  <thead>\n",
       "    <tr style=\"text-align: right;\">\n",
       "      <th></th>\n",
       "      <th>open</th>\n",
       "      <th>high</th>\n",
       "      <th>low</th>\n",
       "      <th>close</th>\n",
       "      <th>volume</th>\n",
       "      <th>trade_count</th>\n",
       "      <th>vwap</th>\n",
       "      <th>symbol</th>\n",
       "    </tr>\n",
       "    <tr>\n",
       "      <th>timestamp</th>\n",
       "      <th></th>\n",
       "      <th></th>\n",
       "      <th></th>\n",
       "      <th></th>\n",
       "      <th></th>\n",
       "      <th></th>\n",
       "      <th></th>\n",
       "      <th></th>\n",
       "    </tr>\n",
       "  </thead>\n",
       "  <tbody>\n",
       "    <tr>\n",
       "      <th>2022-04-21 04:00:00+00:00</th>\n",
       "      <td>103.44</td>\n",
       "      <td>103.47</td>\n",
       "      <td>102.79</td>\n",
       "      <td>103.04</td>\n",
       "      <td>11393669</td>\n",
       "      <td>35586</td>\n",
       "      <td>103.047589</td>\n",
       "      <td>AGG</td>\n",
       "    </tr>\n",
       "    <tr>\n",
       "      <th>2022-04-21 04:00:00+00:00</th>\n",
       "      <td>448.58</td>\n",
       "      <td>450.01</td>\n",
       "      <td>437.10</td>\n",
       "      <td>438.06</td>\n",
       "      <td>85002703</td>\n",
       "      <td>718350</td>\n",
       "      <td>442.779024</td>\n",
       "      <td>SPY</td>\n",
       "    </tr>\n",
       "  </tbody>\n",
       "</table>\n",
       "</div>"
      ],
      "text/plain": [
       "                             open    high     low   close    volume  \\\n",
       "timestamp                                                             \n",
       "2022-04-21 04:00:00+00:00  103.44  103.47  102.79  103.04  11393669   \n",
       "2022-04-21 04:00:00+00:00  448.58  450.01  437.10  438.06  85002703   \n",
       "\n",
       "                           trade_count        vwap symbol  \n",
       "timestamp                                                  \n",
       "2022-04-21 04:00:00+00:00        35586  103.047589    AGG  \n",
       "2022-04-21 04:00:00+00:00       718350  442.779024    SPY  "
      ]
     },
     "metadata": {},
     "output_type": "display_data"
    },
    {
     "data": {
      "text/html": [
       "<div>\n",
       "<style scoped>\n",
       "    .dataframe tbody tr th:only-of-type {\n",
       "        vertical-align: middle;\n",
       "    }\n",
       "\n",
       "    .dataframe tbody tr th {\n",
       "        vertical-align: top;\n",
       "    }\n",
       "\n",
       "    .dataframe thead th {\n",
       "        text-align: right;\n",
       "    }\n",
       "</style>\n",
       "<table border=\"1\" class=\"dataframe\">\n",
       "  <thead>\n",
       "    <tr style=\"text-align: right;\">\n",
       "      <th></th>\n",
       "      <th>open</th>\n",
       "      <th>high</th>\n",
       "      <th>low</th>\n",
       "      <th>close</th>\n",
       "      <th>volume</th>\n",
       "      <th>trade_count</th>\n",
       "      <th>vwap</th>\n",
       "    </tr>\n",
       "    <tr>\n",
       "      <th>timestamp</th>\n",
       "      <th></th>\n",
       "      <th></th>\n",
       "      <th></th>\n",
       "      <th></th>\n",
       "      <th></th>\n",
       "      <th></th>\n",
       "      <th></th>\n",
       "    </tr>\n",
       "  </thead>\n",
       "  <tbody>\n",
       "    <tr>\n",
       "      <th>2022-04-21 04:00:00+00:00</th>\n",
       "      <td>103.44</td>\n",
       "      <td>103.47</td>\n",
       "      <td>102.79</td>\n",
       "      <td>103.04</td>\n",
       "      <td>11393669</td>\n",
       "      <td>35586</td>\n",
       "      <td>103.047589</td>\n",
       "    </tr>\n",
       "  </tbody>\n",
       "</table>\n",
       "</div>"
      ],
      "text/plain": [
       "                             open    high     low   close    volume  \\\n",
       "timestamp                                                             \n",
       "2022-04-21 04:00:00+00:00  103.44  103.47  102.79  103.04  11393669   \n",
       "\n",
       "                           trade_count        vwap  \n",
       "timestamp                                           \n",
       "2022-04-21 04:00:00+00:00        35586  103.047589  "
      ]
     },
     "metadata": {},
     "output_type": "display_data"
    },
    {
     "data": {
      "text/html": [
       "<div>\n",
       "<style scoped>\n",
       "    .dataframe tbody tr th:only-of-type {\n",
       "        vertical-align: middle;\n",
       "    }\n",
       "\n",
       "    .dataframe tbody tr th {\n",
       "        vertical-align: top;\n",
       "    }\n",
       "\n",
       "    .dataframe thead th {\n",
       "        text-align: right;\n",
       "    }\n",
       "</style>\n",
       "<table border=\"1\" class=\"dataframe\">\n",
       "  <thead>\n",
       "    <tr style=\"text-align: right;\">\n",
       "      <th></th>\n",
       "      <th>open</th>\n",
       "      <th>high</th>\n",
       "      <th>low</th>\n",
       "      <th>close</th>\n",
       "      <th>volume</th>\n",
       "      <th>trade_count</th>\n",
       "      <th>vwap</th>\n",
       "    </tr>\n",
       "    <tr>\n",
       "      <th>timestamp</th>\n",
       "      <th></th>\n",
       "      <th></th>\n",
       "      <th></th>\n",
       "      <th></th>\n",
       "      <th></th>\n",
       "      <th></th>\n",
       "      <th></th>\n",
       "    </tr>\n",
       "  </thead>\n",
       "  <tbody>\n",
       "    <tr>\n",
       "      <th>2022-04-21 04:00:00+00:00</th>\n",
       "      <td>448.58</td>\n",
       "      <td>450.01</td>\n",
       "      <td>437.1</td>\n",
       "      <td>438.06</td>\n",
       "      <td>85002703</td>\n",
       "      <td>718350</td>\n",
       "      <td>442.779024</td>\n",
       "    </tr>\n",
       "  </tbody>\n",
       "</table>\n",
       "</div>"
      ],
      "text/plain": [
       "                             open    high    low   close    volume  \\\n",
       "timestamp                                                            \n",
       "2022-04-21 04:00:00+00:00  448.58  450.01  437.1  438.06  85002703   \n",
       "\n",
       "                           trade_count        vwap  \n",
       "timestamp                                           \n",
       "2022-04-21 04:00:00+00:00       718350  442.779024  "
      ]
     },
     "metadata": {},
     "output_type": "display_data"
    },
    {
     "data": {
      "text/html": [
       "<div>\n",
       "<style scoped>\n",
       "    .dataframe tbody tr th:only-of-type {\n",
       "        vertical-align: middle;\n",
       "    }\n",
       "\n",
       "    .dataframe tbody tr th {\n",
       "        vertical-align: top;\n",
       "    }\n",
       "\n",
       "    .dataframe thead tr th {\n",
       "        text-align: left;\n",
       "    }\n",
       "\n",
       "    .dataframe thead tr:last-of-type th {\n",
       "        text-align: right;\n",
       "    }\n",
       "</style>\n",
       "<table border=\"1\" class=\"dataframe\">\n",
       "  <thead>\n",
       "    <tr>\n",
       "      <th></th>\n",
       "      <th colspan=\"7\" halign=\"left\">AGG</th>\n",
       "      <th colspan=\"7\" halign=\"left\">SPY</th>\n",
       "    </tr>\n",
       "    <tr>\n",
       "      <th></th>\n",
       "      <th>open</th>\n",
       "      <th>high</th>\n",
       "      <th>low</th>\n",
       "      <th>close</th>\n",
       "      <th>volume</th>\n",
       "      <th>trade_count</th>\n",
       "      <th>vwap</th>\n",
       "      <th>open</th>\n",
       "      <th>high</th>\n",
       "      <th>low</th>\n",
       "      <th>close</th>\n",
       "      <th>volume</th>\n",
       "      <th>trade_count</th>\n",
       "      <th>vwap</th>\n",
       "    </tr>\n",
       "    <tr>\n",
       "      <th>timestamp</th>\n",
       "      <th></th>\n",
       "      <th></th>\n",
       "      <th></th>\n",
       "      <th></th>\n",
       "      <th></th>\n",
       "      <th></th>\n",
       "      <th></th>\n",
       "      <th></th>\n",
       "      <th></th>\n",
       "      <th></th>\n",
       "      <th></th>\n",
       "      <th></th>\n",
       "      <th></th>\n",
       "      <th></th>\n",
       "    </tr>\n",
       "  </thead>\n",
       "  <tbody>\n",
       "    <tr>\n",
       "      <th>2022-04-21 04:00:00+00:00</th>\n",
       "      <td>103.44</td>\n",
       "      <td>103.47</td>\n",
       "      <td>102.79</td>\n",
       "      <td>103.04</td>\n",
       "      <td>11393669</td>\n",
       "      <td>35586</td>\n",
       "      <td>103.047589</td>\n",
       "      <td>448.58</td>\n",
       "      <td>450.01</td>\n",
       "      <td>437.1</td>\n",
       "      <td>438.06</td>\n",
       "      <td>85002703</td>\n",
       "      <td>718350</td>\n",
       "      <td>442.779024</td>\n",
       "    </tr>\n",
       "  </tbody>\n",
       "</table>\n",
       "</div>"
      ],
      "text/plain": [
       "                              AGG                                    \\\n",
       "                             open    high     low   close    volume   \n",
       "timestamp                                                             \n",
       "2022-04-21 04:00:00+00:00  103.44  103.47  102.79  103.04  11393669   \n",
       "\n",
       "                                                      SPY                 \\\n",
       "                          trade_count        vwap    open    high    low   \n",
       "timestamp                                                                  \n",
       "2022-04-21 04:00:00+00:00       35586  103.047589  448.58  450.01  437.1   \n",
       "\n",
       "                                                                     \n",
       "                            close    volume trade_count        vwap  \n",
       "timestamp                                                            \n",
       "2022-04-21 04:00:00+00:00  438.06  85002703      718350  442.779024  "
      ]
     },
     "execution_count": 46,
     "metadata": {},
     "output_type": "execute_result"
    }
   ],
   "source": [
    "# Use the Alpaca get_bars function to get current closing prices the portfolio\n",
    "# Be sure to set the `df` property after the function to format the response object as a DataFrame\n",
    "# YOUR CODE HERE\n",
    "prices_tickers_df = alpaca.get_bars(tickers,\n",
    "                                    timeframe,\n",
    "                                    start=start_date,\n",
    "                                \n",
    "                                   ).df\n",
    "display(prices_tickers_df)\n",
    "\n",
    "# Reorganize the DataFrame\n",
    "# Separate ticker data\n",
    "# YOUR CODE HERE\n",
    "AGG = prices_tickers_df[prices_tickers_df[\"symbol\"]==\"AGG\"].drop(\"symbol\",axis=1)\n",
    "display(AGG)\n",
    "SPY = prices_tickers_df[prices_tickers_df[\"symbol\"]==\"SPY\"].drop(\"symbol\",axis=1)\n",
    "display(SPY)\n",
    "\n",
    "# Concatenate the ticker DataFrames\n",
    "# YOUR CODE HERE\n",
    "prices_tickers_df_new = pd.concat([AGG,SPY],axis=1,keys=[\"AGG\",\"SPY\"])\n",
    "\n",
    "# Review the first 5 rows of the Alpaca DataFrame\n",
    "# YOUR CODE HERE\n",
    "prices_tickers_df_new\n"
   ]
  },
  {
   "cell_type": "markdown",
   "metadata": {},
   "source": [
    "#### Step 5: Navigating the Alpaca response DataFrame, select the `SPY` and `AGG` closing prices, and store them as variables."
   ]
  },
  {
   "cell_type": "code",
   "execution_count": 48,
   "metadata": {},
   "outputs": [
    {
     "data": {
      "text/plain": [
       "103.04"
      ]
     },
     "execution_count": 48,
     "metadata": {},
     "output_type": "execute_result"
    }
   ],
   "source": [
    "# Access the closing price for AGG from the Alpaca DataFrame\n",
    "# Converting the value to a floating point number\n",
    "agg_close_price = prices_tickers_df_new[\"AGG\"][\"close\"][0]\n",
    "agg_close_price = float(agg_close_price)\n",
    "# Print the AGG closing price\n",
    "# YOUR CODE HERE\n",
    "agg_close_price\n"
   ]
  },
  {
   "cell_type": "code",
   "execution_count": 49,
   "metadata": {},
   "outputs": [
    {
     "data": {
      "text/plain": [
       "438.06"
      ]
     },
     "execution_count": 49,
     "metadata": {},
     "output_type": "execute_result"
    }
   ],
   "source": [
    "# Access the closing price for SPY from the Alpaca DataFrame\n",
    "# Converting the value to a floating point number\n",
    "spy_close_price = prices_tickers_df_new[\"SPY\"][\"close\"][0]\n",
    "spy_close_price = float(spy_close_price)\n",
    "# Print the SPY closing price\n",
    "# YOUR CODE HERE\n",
    "spy_close_price\n"
   ]
  },
  {
   "cell_type": "markdown",
   "metadata": {},
   "source": [
    "#### Step 6: Calculate the value, in US dollars, of the current amount of shares in each of the stock and bond portions of the portfolio, and print the results."
   ]
  },
  {
   "cell_type": "code",
   "execution_count": 50,
   "metadata": {},
   "outputs": [
    {
     "data": {
      "text/plain": [
       "20608.0"
      ]
     },
     "execution_count": 50,
     "metadata": {},
     "output_type": "execute_result"
    }
   ],
   "source": [
    "# Calculate the current value of the bond portion of the portfolio\n",
    "agg_value = agg_close_price*agg_shares\n",
    "\n",
    "# Print the current value of the bond portfolio\n",
    "# YOUR CODE HERE\n",
    "agg_value\n"
   ]
  },
  {
   "cell_type": "code",
   "execution_count": 51,
   "metadata": {},
   "outputs": [
    {
     "data": {
      "text/plain": [
       "48186.6"
      ]
     },
     "execution_count": 51,
     "metadata": {},
     "output_type": "execute_result"
    }
   ],
   "source": [
    "# Calculate the current value of the stock portion of the portfolio\n",
    "spy_value = spy_close_price*spy_shares\n",
    "\n",
    "# Print the current value of the stock portfolio\n",
    "# YOUR CODE HERE\n",
    "spy_value\n"
   ]
  },
  {
   "cell_type": "code",
   "execution_count": 52,
   "metadata": {},
   "outputs": [
    {
     "data": {
      "text/plain": [
       "68794.6"
      ]
     },
     "execution_count": 52,
     "metadata": {},
     "output_type": "execute_result"
    }
   ],
   "source": [
    "# Calculate the total value of the stock and bond portion of the portfolio\n",
    "total_stocks_bonds = agg_value + spy_value\n",
    "\n",
    "# Print the current balance of the stock and bond portion of the portfolio\n",
    "# YOUR CODE HERE\n",
    "total_stocks_bonds\n"
   ]
  },
  {
   "cell_type": "code",
   "execution_count": 53,
   "metadata": {},
   "outputs": [
    {
     "data": {
      "text/plain": [
       "133602.503"
      ]
     },
     "execution_count": 53,
     "metadata": {},
     "output_type": "execute_result"
    }
   ],
   "source": [
    "# Calculate the total value of the member's entire savings portfolio\n",
    "# Add the value of the cryptocurrency walled to the value of the total stocks and bonds\n",
    "total_portfolio = total_crypto_wallet + total_stocks_bonds\n",
    "\n",
    "# Print current cryptocurrency wallet balance\n",
    "# YOUR CODE HERE\n",
    "total_portfolio"
   ]
  },
  {
   "cell_type": "markdown",
   "metadata": {},
   "source": [
    "### Evaluate the Emergency Fund\n",
    "\n",
    "In this section, you’ll use the valuations for the cryptocurrency wallet and for the stock and bond portions of the portfolio to determine if the credit union member has enough savings to build an emergency fund into their financial plan. To do this, complete the following steps:\n",
    "\n",
    "1. Create a Python list named `savings_data` that has two elements. The first element contains the total value of the cryptocurrency wallet. The second element contains the total value of the stock and bond portions of the portfolio.\n",
    "\n",
    "2. Use the `savings_data` list to create a Pandas DataFrame named `savings_df`, and then display this DataFrame. The function to create the DataFrame should take the following three parameters:\n",
    "\n",
    "    - `savings_data`: Use the list that you just created.\n",
    "\n",
    "    - `columns`: Set this parameter equal to a Python list with a single value called `amount`.\n",
    "\n",
    "    - `index`: Set this parameter equal to a Python list with the values of `crypto` and `stock/bond`.\n",
    "\n",
    "3. Use the `savings_df` DataFrame to plot a pie chart that visualizes the composition of the member’s portfolio. The y-axis of the pie chart uses `amount`. Be sure to add a title.\n",
    "\n",
    "4. Using Python, determine if the current portfolio has enough to create an emergency fund as part of the member’s financial plan. Ideally, an emergency fund should equal to three times the member’s monthly income. To do this, implement the following steps:\n",
    "\n",
    "    1. Create a variable named `emergency_fund_value`, and set it equal to three times the value of the member’s `monthly_income` of $12000. (You set this earlier in Part 1).\n",
    "\n",
    "    2. Create a series of three if statements to determine if the member’s total portfolio is large enough to fund the emergency portfolio:\n",
    "\n",
    "        1. If the total portfolio value is greater than the emergency fund value, display a message congratulating the member for having enough money in this fund.\n",
    "\n",
    "        2. Else if the total portfolio value is equal to the emergency fund value, display a message congratulating the member on reaching this important financial goal.\n",
    "\n",
    "        3. Else the total portfolio is less than the emergency fund value, so display a message showing how many dollars away the member is from reaching the goal. (Subtract the total portfolio value from the emergency fund value.)\n"
   ]
  },
  {
   "cell_type": "markdown",
   "metadata": {},
   "source": [
    "#### Step 1: Create a Python list named `savings_data` that has two elements. The first element contains the total value of the cryptocurrency wallet. The second element contains the total value of the stock and bond portions of the portfolio."
   ]
  },
  {
   "cell_type": "code",
   "execution_count": 54,
   "metadata": {},
   "outputs": [
    {
     "data": {
      "text/plain": [
       "[64807.903, 68794.6]"
      ]
     },
     "execution_count": 54,
     "metadata": {},
     "output_type": "execute_result"
    }
   ],
   "source": [
    "# Consolidate financial assets data into a Python list\n",
    "# YOUR CODE HERE\n",
    "savings_data = [total_crypto_wallet,total_stocks_bonds]\n",
    "\n",
    "# Review the Python list savings_data\n",
    "# YOUR CODE HERE\n",
    "savings_data\n",
    "    "
   ]
  },
  {
   "cell_type": "markdown",
   "metadata": {},
   "source": [
    "#### Step 2: Use the `savings_data` list to create a Pandas DataFrame named `savings_df`, and then display this DataFrame. The function to create the DataFrame should take the following three parameters:\n",
    "\n",
    "- `savings_data`: Use the list that you just created.\n",
    "\n",
    "- `columns`: Set this parameter equal to a Python list with a single value called `amount`.\n",
    "\n",
    "- `index`: Set this parameter equal to a Python list with the values of `crypto` and `stock/bond`.\n"
   ]
  },
  {
   "cell_type": "code",
   "execution_count": 55,
   "metadata": {},
   "outputs": [
    {
     "data": {
      "text/html": [
       "<div>\n",
       "<style scoped>\n",
       "    .dataframe tbody tr th:only-of-type {\n",
       "        vertical-align: middle;\n",
       "    }\n",
       "\n",
       "    .dataframe tbody tr th {\n",
       "        vertical-align: top;\n",
       "    }\n",
       "\n",
       "    .dataframe thead th {\n",
       "        text-align: right;\n",
       "    }\n",
       "</style>\n",
       "<table border=\"1\" class=\"dataframe\">\n",
       "  <thead>\n",
       "    <tr style=\"text-align: right;\">\n",
       "      <th></th>\n",
       "      <th>amount</th>\n",
       "    </tr>\n",
       "  </thead>\n",
       "  <tbody>\n",
       "    <tr>\n",
       "      <th>crypto</th>\n",
       "      <td>64807.903</td>\n",
       "    </tr>\n",
       "    <tr>\n",
       "      <th>stock/bond</th>\n",
       "      <td>68794.600</td>\n",
       "    </tr>\n",
       "  </tbody>\n",
       "</table>\n",
       "</div>"
      ],
      "text/plain": [
       "               amount\n",
       "crypto      64807.903\n",
       "stock/bond  68794.600"
      ]
     },
     "execution_count": 55,
     "metadata": {},
     "output_type": "execute_result"
    }
   ],
   "source": [
    "# Create a Pandas DataFrame called savings_df \n",
    "# YOUR CODE HERE\n",
    "savings_df = pd.DataFrame(savings_data,columns=[\"amount\"],index= (\"crypto\",\"stock/bond\"))\n",
    "\n",
    "# Display the savings_df DataFrame\n",
    "# YOUR CODE HERE\n",
    "savings_df\n"
   ]
  },
  {
   "cell_type": "markdown",
   "metadata": {},
   "source": [
    "#### Step 3: Use the `savings_df` DataFrame to plot a pie chart that visualizes the composition of the member’s portfolio. The y-axis of the pie chart uses `amount`. Be sure to add a title."
   ]
  },
  {
   "cell_type": "code",
   "execution_count": 56,
   "metadata": {},
   "outputs": [
    {
     "data": {
      "text/plain": [
       "<AxesSubplot:ylabel='amount'>"
      ]
     },
     "execution_count": 56,
     "metadata": {},
     "output_type": "execute_result"
    },
    {
     "data": {
      "image/png": "[encoded data removed]",
      "text/plain": [
       "<Figure size 432x288 with 1 Axes>"
      ]
     },
     "metadata": {},
     "output_type": "display_data"
    }
   ],
   "source": [
    "# Plot the total value of the member's portfolio (crypto and stock/bond) in a pie chart\n",
    "# YOUR CODE HERE\n",
    "savings_df.plot.pie(y='amount')\n"
   ]
  },
  {
   "cell_type": "markdown",
   "metadata": {},
   "source": [
    "#### Step 4: Using Python, determine if the current portfolio has enough to create an emergency fund as part of the member’s financial plan. Ideally, an emergency fund should equal to three times the member’s monthly income. To do this, implement the following steps:\n",
    "\n",
    "Step 1. Create a variable named `emergency_fund_value`, and set it equal to three times the value of the member’s `monthly_income` of 12000. (You set this earlier in Part 1).\n",
    "\n",
    "Step 2. Create a series of three if statements to determine if the member’s total portfolio is large enough to fund the emergency portfolio:\n",
    "\n",
    "* If the total portfolio value is greater than the emergency fund value, display a message congratulating the member for having enough money in this fund.\n",
    "\n",
    "* Else if the total portfolio value is equal to the emergency fund value, display a message congratulating the member on reaching this important financial goal.\n",
    "\n",
    "* Else the total portfolio is less than the emergency fund value, so display a message showing how many dollars away the member is from reaching the goal. (Subtract the total portfolio value from the emergency fund value.)\n"
   ]
  },
  {
   "cell_type": "markdown",
   "metadata": {},
   "source": [
    "##### Step 4-1: Create a variable named `emergency_fund_value`, and set it equal to three times the value of the member’s `monthly_income` of 12000. (You set this earlier in Part 1)."
   ]
  },
  {
   "cell_type": "code",
   "execution_count": 57,
   "metadata": {},
   "outputs": [
    {
     "data": {
      "text/plain": [
       "36000"
      ]
     },
     "execution_count": 57,
     "metadata": {},
     "output_type": "execute_result"
    }
   ],
   "source": [
    "# Create a variable named emergency_fund_value\n",
    "# YOUR CODE HERE\n",
    "emergency_fund_value = 3* monthly_income\n",
    "emergency_fund_value\n",
    "\n"
   ]
  },
  {
   "cell_type": "markdown",
   "metadata": {},
   "source": [
    "##### Step 4-2: Create a series of three if statements to determine if the member’s total portfolio is large enough to fund the emergency portfolio:\n",
    "\n",
    "* If the total portfolio value is greater than the emergency fund value, display a message congratulating the member for having enough money in this fund.\n",
    "\n",
    "* Else if the total portfolio value is equal to the emergency fund value, display a message congratulating the member on reaching this important financial goal.\n",
    "\n",
    "* Else the total portfolio is less than the emergency fund value, so display a message showing how many dollars away the member is from reaching the goal. (Subtract the total portfolio value from the emergency fund value.)"
   ]
  },
  {
   "cell_type": "code",
   "execution_count": 58,
   "metadata": {},
   "outputs": [
    {
     "name": "stdout",
     "output_type": "stream",
     "text": [
      "congratulations for having enough money in this fund.\n"
     ]
    }
   ],
   "source": [
    "# Evaluate the possibility of creating an emergency fund with 3 conditions:\n",
    "# YOUR CODE HERE\n",
    "# YOUR CODE HERE\n",
    "# YOUR CODE HERE\n",
    "if total_portfolio>emergency_fund_value:\n",
    "    print('congratulations for having enough money in this fund.')\n",
    "elif total_portfolio == emergency_fund_value:\n",
    "    print('congratulating the member on reaching this important financial goal')\n",
    "else:\n",
    "    print(f'You need {emergency_fund_value-total_portfolio} to reach the goal')\n",
    "\n"
   ]
  },
  {
   "cell_type": "markdown",
   "metadata": {},
   "source": [
    "## Part 2: Create a Financial Planner for Retirement"
   ]
  },
  {
   "cell_type": "markdown",
   "metadata": {},
   "source": [
    "### Create the Monte Carlo Simulation\n",
    "\n",
    "In this section, you’ll use the MCForecastTools library to create a Monte Carlo simulation for the member’s savings portfolio. To do this, complete the following steps:\n",
    "\n",
    "1. Make an API call via the Alpaca SDK to get 3 years of historical closing prices for a traditional 60/40 portfolio split: 60% stocks (SPY) and 40% bonds (AGG).\n",
    "\n",
    "2. Run a Monte Carlo simulation of 500 samples and 30 years for the 60/40 portfolio, and then plot the results.The following image shows the overlay line plot resulting from a simulation with these characteristics. However, because a random number generator is used to run each live Monte Carlo simulation, your image will differ slightly from this exact image:\n",
    "\n",
    "![A screenshot depicts the resulting plot.](Images/5-4-monte-carlo-line-plot.png)\n",
    "\n",
    "3. Plot the probability distribution of the Monte Carlo simulation. Plot the probability distribution of the Monte Carlo simulation. The following image shows the histogram plot resulting from a simulation with these characteristics. However, because a random number generator is used to run each live Monte Carlo simulation, your image will differ slightly from this exact image:\n",
    "\n",
    "![A screenshot depicts the histogram plot.](Images/5-4-monte-carlo-histogram.png)\n",
    "\n",
    "4. Generate the summary statistics for the Monte Carlo simulation.\n",
    "\n"
   ]
  },
  {
   "cell_type": "markdown",
   "metadata": {},
   "source": [
    "#### Step 1: Make an API call via the Alpaca SDK to get 3 years of historical closing prices for a traditional 60/40 portfolio split: 60% stocks (SPY) and 40% bonds (AGG)."
   ]
  },
  {
   "cell_type": "code",
   "execution_count": 60,
   "metadata": {},
   "outputs": [],
   "source": [
    "# Set start and end dates of 3 years back from your current date\n",
    "# Alternatively, you can use an end date of 2020-08-07 and work 3 years back from that date \n",
    "# YOUR CODE HERE\n",
    "# YOUR CODE HERE\n",
    "start_date_3_years = pd.Timestamp('2019-04-08',tz='America/New_York').isoformat()\n",
    "end_date_3_years = pd.Timestamp('2022-04-08',tz='America/New_York').isoformat()\n",
    "\n",
    "\n",
    "# Set number of rows to 1000 to retrieve the maximum amount of rows\n",
    "# YOUR CODE HERE\n",
    "limit_rows = 2000\n"
   ]
  },
  {
   "cell_type": "code",
   "execution_count": 62,
   "metadata": {},
   "outputs": [
    {
     "data": {
      "text/html": [
       "<div>\n",
       "<style scoped>\n",
       "    .dataframe tbody tr th:only-of-type {\n",
       "        vertical-align: middle;\n",
       "    }\n",
       "\n",
       "    .dataframe tbody tr th {\n",
       "        vertical-align: top;\n",
       "    }\n",
       "\n",
       "    .dataframe thead th {\n",
       "        text-align: right;\n",
       "    }\n",
       "</style>\n",
       "<table border=\"1\" class=\"dataframe\">\n",
       "  <thead>\n",
       "    <tr style=\"text-align: right;\">\n",
       "      <th></th>\n",
       "      <th>open</th>\n",
       "      <th>high</th>\n",
       "      <th>low</th>\n",
       "      <th>close</th>\n",
       "      <th>volume</th>\n",
       "      <th>trade_count</th>\n",
       "      <th>vwap</th>\n",
       "      <th>symbol</th>\n",
       "    </tr>\n",
       "    <tr>\n",
       "      <th>timestamp</th>\n",
       "      <th></th>\n",
       "      <th></th>\n",
       "      <th></th>\n",
       "      <th></th>\n",
       "      <th></th>\n",
       "      <th></th>\n",
       "      <th></th>\n",
       "      <th></th>\n",
       "    </tr>\n",
       "  </thead>\n",
       "  <tbody>\n",
       "    <tr>\n",
       "      <th>2019-04-08 04:00:00+00:00</th>\n",
       "      <td>108.39</td>\n",
       "      <td>108.4000</td>\n",
       "      <td>108.300</td>\n",
       "      <td>108.34</td>\n",
       "      <td>9485306</td>\n",
       "      <td>20805</td>\n",
       "      <td>108.341416</td>\n",
       "      <td>AGG</td>\n",
       "    </tr>\n",
       "    <tr>\n",
       "      <th>2019-04-09 04:00:00+00:00</th>\n",
       "      <td>108.47</td>\n",
       "      <td>108.5200</td>\n",
       "      <td>108.390</td>\n",
       "      <td>108.40</td>\n",
       "      <td>3753844</td>\n",
       "      <td>14155</td>\n",
       "      <td>108.433285</td>\n",
       "      <td>AGG</td>\n",
       "    </tr>\n",
       "    <tr>\n",
       "      <th>2019-04-10 04:00:00+00:00</th>\n",
       "      <td>108.55</td>\n",
       "      <td>108.6367</td>\n",
       "      <td>108.495</td>\n",
       "      <td>108.61</td>\n",
       "      <td>4682782</td>\n",
       "      <td>13735</td>\n",
       "      <td>108.559902</td>\n",
       "      <td>AGG</td>\n",
       "    </tr>\n",
       "    <tr>\n",
       "      <th>2019-04-11 04:00:00+00:00</th>\n",
       "      <td>108.53</td>\n",
       "      <td>108.5300</td>\n",
       "      <td>108.420</td>\n",
       "      <td>108.48</td>\n",
       "      <td>2827701</td>\n",
       "      <td>11884</td>\n",
       "      <td>108.476795</td>\n",
       "      <td>AGG</td>\n",
       "    </tr>\n",
       "    <tr>\n",
       "      <th>2019-04-12 04:00:00+00:00</th>\n",
       "      <td>108.26</td>\n",
       "      <td>108.3500</td>\n",
       "      <td>108.220</td>\n",
       "      <td>108.27</td>\n",
       "      <td>2430609</td>\n",
       "      <td>11376</td>\n",
       "      <td>108.269606</td>\n",
       "      <td>AGG</td>\n",
       "    </tr>\n",
       "  </tbody>\n",
       "</table>\n",
       "</div>"
      ],
      "text/plain": [
       "                             open      high      low   close   volume  \\\n",
       "timestamp                                                               \n",
       "2019-04-08 04:00:00+00:00  108.39  108.4000  108.300  108.34  9485306   \n",
       "2019-04-09 04:00:00+00:00  108.47  108.5200  108.390  108.40  3753844   \n",
       "2019-04-10 04:00:00+00:00  108.55  108.6367  108.495  108.61  4682782   \n",
       "2019-04-11 04:00:00+00:00  108.53  108.5300  108.420  108.48  2827701   \n",
       "2019-04-12 04:00:00+00:00  108.26  108.3500  108.220  108.27  2430609   \n",
       "\n",
       "                           trade_count        vwap symbol  \n",
       "timestamp                                                  \n",
       "2019-04-08 04:00:00+00:00        20805  108.341416    AGG  \n",
       "2019-04-09 04:00:00+00:00        14155  108.433285    AGG  \n",
       "2019-04-10 04:00:00+00:00        13735  108.559902    AGG  \n",
       "2019-04-11 04:00:00+00:00        11884  108.476795    AGG  \n",
       "2019-04-12 04:00:00+00:00        11376  108.269606    AGG  "
      ]
     },
     "metadata": {},
     "output_type": "display_data"
    },
    {
     "data": {
      "text/html": [
       "<div>\n",
       "<style scoped>\n",
       "    .dataframe tbody tr th:only-of-type {\n",
       "        vertical-align: middle;\n",
       "    }\n",
       "\n",
       "    .dataframe tbody tr th {\n",
       "        vertical-align: top;\n",
       "    }\n",
       "\n",
       "    .dataframe thead th {\n",
       "        text-align: right;\n",
       "    }\n",
       "</style>\n",
       "<table border=\"1\" class=\"dataframe\">\n",
       "  <thead>\n",
       "    <tr style=\"text-align: right;\">\n",
       "      <th></th>\n",
       "      <th>open</th>\n",
       "      <th>high</th>\n",
       "      <th>low</th>\n",
       "      <th>close</th>\n",
       "      <th>volume</th>\n",
       "      <th>trade_count</th>\n",
       "      <th>vwap</th>\n",
       "      <th>symbol</th>\n",
       "    </tr>\n",
       "    <tr>\n",
       "      <th>timestamp</th>\n",
       "      <th></th>\n",
       "      <th></th>\n",
       "      <th></th>\n",
       "      <th></th>\n",
       "      <th></th>\n",
       "      <th></th>\n",
       "      <th></th>\n",
       "      <th></th>\n",
       "    </tr>\n",
       "  </thead>\n",
       "  <tbody>\n",
       "    <tr>\n",
       "      <th>2022-04-04 04:00:00+00:00</th>\n",
       "      <td>453.20</td>\n",
       "      <td>456.91</td>\n",
       "      <td>452.26</td>\n",
       "      <td>456.80</td>\n",
       "      <td>59663209</td>\n",
       "      <td>503316</td>\n",
       "      <td>455.309774</td>\n",
       "      <td>SPY</td>\n",
       "    </tr>\n",
       "    <tr>\n",
       "      <th>2022-04-05 04:00:00+00:00</th>\n",
       "      <td>455.23</td>\n",
       "      <td>457.83</td>\n",
       "      <td>449.82</td>\n",
       "      <td>451.03</td>\n",
       "      <td>74022189</td>\n",
       "      <td>644313</td>\n",
       "      <td>453.412462</td>\n",
       "      <td>SPY</td>\n",
       "    </tr>\n",
       "    <tr>\n",
       "      <th>2022-04-06 04:00:00+00:00</th>\n",
       "      <td>446.87</td>\n",
       "      <td>448.93</td>\n",
       "      <td>443.47</td>\n",
       "      <td>446.52</td>\n",
       "      <td>105592595</td>\n",
       "      <td>901634</td>\n",
       "      <td>446.345270</td>\n",
       "      <td>SPY</td>\n",
       "    </tr>\n",
       "    <tr>\n",
       "      <th>2022-04-07 04:00:00+00:00</th>\n",
       "      <td>445.67</td>\n",
       "      <td>450.69</td>\n",
       "      <td>443.53</td>\n",
       "      <td>448.77</td>\n",
       "      <td>77538519</td>\n",
       "      <td>628673</td>\n",
       "      <td>447.098209</td>\n",
       "      <td>SPY</td>\n",
       "    </tr>\n",
       "    <tr>\n",
       "      <th>2022-04-08 04:00:00+00:00</th>\n",
       "      <td>448.04</td>\n",
       "      <td>450.63</td>\n",
       "      <td>445.94</td>\n",
       "      <td>447.57</td>\n",
       "      <td>79148376</td>\n",
       "      <td>573491</td>\n",
       "      <td>448.250805</td>\n",
       "      <td>SPY</td>\n",
       "    </tr>\n",
       "  </tbody>\n",
       "</table>\n",
       "</div>"
      ],
      "text/plain": [
       "                             open    high     low   close     volume  \\\n",
       "timestamp                                                              \n",
       "2022-04-04 04:00:00+00:00  453.20  456.91  452.26  456.80   59663209   \n",
       "2022-04-05 04:00:00+00:00  455.23  457.83  449.82  451.03   74022189   \n",
       "2022-04-06 04:00:00+00:00  446.87  448.93  443.47  446.52  105592595   \n",
       "2022-04-07 04:00:00+00:00  445.67  450.69  443.53  448.77   77538519   \n",
       "2022-04-08 04:00:00+00:00  448.04  450.63  445.94  447.57   79148376   \n",
       "\n",
       "                           trade_count        vwap symbol  \n",
       "timestamp                                                  \n",
       "2022-04-04 04:00:00+00:00       503316  455.309774    SPY  \n",
       "2022-04-05 04:00:00+00:00       644313  453.412462    SPY  \n",
       "2022-04-06 04:00:00+00:00       901634  446.345270    SPY  \n",
       "2022-04-07 04:00:00+00:00       628673  447.098209    SPY  \n",
       "2022-04-08 04:00:00+00:00       573491  448.250805    SPY  "
      ]
     },
     "metadata": {},
     "output_type": "display_data"
    },
    {
     "data": {
      "text/plain": [
       "(1518, 8)"
      ]
     },
     "metadata": {},
     "output_type": "display_data"
    },
    {
     "data": {
      "text/html": [
       "<div>\n",
       "<style scoped>\n",
       "    .dataframe tbody tr th:only-of-type {\n",
       "        vertical-align: middle;\n",
       "    }\n",
       "\n",
       "    .dataframe tbody tr th {\n",
       "        vertical-align: top;\n",
       "    }\n",
       "\n",
       "    .dataframe thead th {\n",
       "        text-align: right;\n",
       "    }\n",
       "</style>\n",
       "<table border=\"1\" class=\"dataframe\">\n",
       "  <thead>\n",
       "    <tr style=\"text-align: right;\">\n",
       "      <th></th>\n",
       "      <th>open</th>\n",
       "      <th>high</th>\n",
       "      <th>low</th>\n",
       "      <th>close</th>\n",
       "      <th>volume</th>\n",
       "      <th>trade_count</th>\n",
       "      <th>vwap</th>\n",
       "    </tr>\n",
       "    <tr>\n",
       "      <th>timestamp</th>\n",
       "      <th></th>\n",
       "      <th></th>\n",
       "      <th></th>\n",
       "      <th></th>\n",
       "      <th></th>\n",
       "      <th></th>\n",
       "      <th></th>\n",
       "    </tr>\n",
       "  </thead>\n",
       "  <tbody>\n",
       "    <tr>\n",
       "      <th>2022-04-04 04:00:00+00:00</th>\n",
       "      <td>106.87</td>\n",
       "      <td>106.870</td>\n",
       "      <td>106.560</td>\n",
       "      <td>106.84</td>\n",
       "      <td>9956493</td>\n",
       "      <td>32544</td>\n",
       "      <td>106.739298</td>\n",
       "    </tr>\n",
       "    <tr>\n",
       "      <th>2022-04-05 04:00:00+00:00</th>\n",
       "      <td>106.60</td>\n",
       "      <td>106.625</td>\n",
       "      <td>105.740</td>\n",
       "      <td>105.76</td>\n",
       "      <td>11018430</td>\n",
       "      <td>34684</td>\n",
       "      <td>105.931526</td>\n",
       "    </tr>\n",
       "    <tr>\n",
       "      <th>2022-04-06 04:00:00+00:00</th>\n",
       "      <td>105.20</td>\n",
       "      <td>105.805</td>\n",
       "      <td>105.115</td>\n",
       "      <td>105.49</td>\n",
       "      <td>13322630</td>\n",
       "      <td>47090</td>\n",
       "      <td>105.463015</td>\n",
       "    </tr>\n",
       "    <tr>\n",
       "      <th>2022-04-07 04:00:00+00:00</th>\n",
       "      <td>105.38</td>\n",
       "      <td>105.510</td>\n",
       "      <td>105.130</td>\n",
       "      <td>105.26</td>\n",
       "      <td>7921117</td>\n",
       "      <td>25631</td>\n",
       "      <td>105.278761</td>\n",
       "    </tr>\n",
       "    <tr>\n",
       "      <th>2022-04-08 04:00:00+00:00</th>\n",
       "      <td>104.82</td>\n",
       "      <td>105.010</td>\n",
       "      <td>104.615</td>\n",
       "      <td>104.73</td>\n",
       "      <td>6501822</td>\n",
       "      <td>24900</td>\n",
       "      <td>104.804999</td>\n",
       "    </tr>\n",
       "  </tbody>\n",
       "</table>\n",
       "</div>"
      ],
      "text/plain": [
       "                             open     high      low   close    volume  \\\n",
       "timestamp                                                               \n",
       "2022-04-04 04:00:00+00:00  106.87  106.870  106.560  106.84   9956493   \n",
       "2022-04-05 04:00:00+00:00  106.60  106.625  105.740  105.76  11018430   \n",
       "2022-04-06 04:00:00+00:00  105.20  105.805  105.115  105.49  13322630   \n",
       "2022-04-07 04:00:00+00:00  105.38  105.510  105.130  105.26   7921117   \n",
       "2022-04-08 04:00:00+00:00  104.82  105.010  104.615  104.73   6501822   \n",
       "\n",
       "                           trade_count        vwap  \n",
       "timestamp                                           \n",
       "2022-04-04 04:00:00+00:00        32544  106.739298  \n",
       "2022-04-05 04:00:00+00:00        34684  105.931526  \n",
       "2022-04-06 04:00:00+00:00        47090  105.463015  \n",
       "2022-04-07 04:00:00+00:00        25631  105.278761  \n",
       "2022-04-08 04:00:00+00:00        24900  104.804999  "
      ]
     },
     "metadata": {},
     "output_type": "display_data"
    },
    {
     "data": {
      "text/plain": [
       "(759, 7)"
      ]
     },
     "metadata": {},
     "output_type": "display_data"
    },
    {
     "data": {
      "text/html": [
       "<div>\n",
       "<style scoped>\n",
       "    .dataframe tbody tr th:only-of-type {\n",
       "        vertical-align: middle;\n",
       "    }\n",
       "\n",
       "    .dataframe tbody tr th {\n",
       "        vertical-align: top;\n",
       "    }\n",
       "\n",
       "    .dataframe thead th {\n",
       "        text-align: right;\n",
       "    }\n",
       "</style>\n",
       "<table border=\"1\" class=\"dataframe\">\n",
       "  <thead>\n",
       "    <tr style=\"text-align: right;\">\n",
       "      <th></th>\n",
       "      <th>open</th>\n",
       "      <th>high</th>\n",
       "      <th>low</th>\n",
       "      <th>close</th>\n",
       "      <th>volume</th>\n",
       "      <th>trade_count</th>\n",
       "      <th>vwap</th>\n",
       "    </tr>\n",
       "    <tr>\n",
       "      <th>timestamp</th>\n",
       "      <th></th>\n",
       "      <th></th>\n",
       "      <th></th>\n",
       "      <th></th>\n",
       "      <th></th>\n",
       "      <th></th>\n",
       "      <th></th>\n",
       "    </tr>\n",
       "  </thead>\n",
       "  <tbody>\n",
       "    <tr>\n",
       "      <th>2022-04-04 04:00:00+00:00</th>\n",
       "      <td>453.20</td>\n",
       "      <td>456.91</td>\n",
       "      <td>452.26</td>\n",
       "      <td>456.80</td>\n",
       "      <td>59663209</td>\n",
       "      <td>503316</td>\n",
       "      <td>455.309774</td>\n",
       "    </tr>\n",
       "    <tr>\n",
       "      <th>2022-04-05 04:00:00+00:00</th>\n",
       "      <td>455.23</td>\n",
       "      <td>457.83</td>\n",
       "      <td>449.82</td>\n",
       "      <td>451.03</td>\n",
       "      <td>74022189</td>\n",
       "      <td>644313</td>\n",
       "      <td>453.412462</td>\n",
       "    </tr>\n",
       "    <tr>\n",
       "      <th>2022-04-06 04:00:00+00:00</th>\n",
       "      <td>446.87</td>\n",
       "      <td>448.93</td>\n",
       "      <td>443.47</td>\n",
       "      <td>446.52</td>\n",
       "      <td>105592595</td>\n",
       "      <td>901634</td>\n",
       "      <td>446.345270</td>\n",
       "    </tr>\n",
       "    <tr>\n",
       "      <th>2022-04-07 04:00:00+00:00</th>\n",
       "      <td>445.67</td>\n",
       "      <td>450.69</td>\n",
       "      <td>443.53</td>\n",
       "      <td>448.77</td>\n",
       "      <td>77538519</td>\n",
       "      <td>628673</td>\n",
       "      <td>447.098209</td>\n",
       "    </tr>\n",
       "    <tr>\n",
       "      <th>2022-04-08 04:00:00+00:00</th>\n",
       "      <td>448.04</td>\n",
       "      <td>450.63</td>\n",
       "      <td>445.94</td>\n",
       "      <td>447.57</td>\n",
       "      <td>79148376</td>\n",
       "      <td>573491</td>\n",
       "      <td>448.250805</td>\n",
       "    </tr>\n",
       "  </tbody>\n",
       "</table>\n",
       "</div>"
      ],
      "text/plain": [
       "                             open    high     low   close     volume  \\\n",
       "timestamp                                                              \n",
       "2022-04-04 04:00:00+00:00  453.20  456.91  452.26  456.80   59663209   \n",
       "2022-04-05 04:00:00+00:00  455.23  457.83  449.82  451.03   74022189   \n",
       "2022-04-06 04:00:00+00:00  446.87  448.93  443.47  446.52  105592595   \n",
       "2022-04-07 04:00:00+00:00  445.67  450.69  443.53  448.77   77538519   \n",
       "2022-04-08 04:00:00+00:00  448.04  450.63  445.94  447.57   79148376   \n",
       "\n",
       "                           trade_count        vwap  \n",
       "timestamp                                           \n",
       "2022-04-04 04:00:00+00:00       503316  455.309774  \n",
       "2022-04-05 04:00:00+00:00       644313  453.412462  \n",
       "2022-04-06 04:00:00+00:00       901634  446.345270  \n",
       "2022-04-07 04:00:00+00:00       628673  447.098209  \n",
       "2022-04-08 04:00:00+00:00       573491  448.250805  "
      ]
     },
     "metadata": {},
     "output_type": "display_data"
    },
    {
     "data": {
      "text/plain": [
       "(759, 7)"
      ]
     },
     "metadata": {},
     "output_type": "display_data"
    },
    {
     "data": {
      "text/html": [
       "<div>\n",
       "<style scoped>\n",
       "    .dataframe tbody tr th:only-of-type {\n",
       "        vertical-align: middle;\n",
       "    }\n",
       "\n",
       "    .dataframe tbody tr th {\n",
       "        vertical-align: top;\n",
       "    }\n",
       "\n",
       "    .dataframe thead tr th {\n",
       "        text-align: left;\n",
       "    }\n",
       "\n",
       "    .dataframe thead tr:last-of-type th {\n",
       "        text-align: right;\n",
       "    }\n",
       "</style>\n",
       "<table border=\"1\" class=\"dataframe\">\n",
       "  <thead>\n",
       "    <tr>\n",
       "      <th></th>\n",
       "      <th colspan=\"7\" halign=\"left\">AGG</th>\n",
       "      <th colspan=\"7\" halign=\"left\">SPY</th>\n",
       "    </tr>\n",
       "    <tr>\n",
       "      <th></th>\n",
       "      <th>open</th>\n",
       "      <th>high</th>\n",
       "      <th>low</th>\n",
       "      <th>close</th>\n",
       "      <th>volume</th>\n",
       "      <th>trade_count</th>\n",
       "      <th>vwap</th>\n",
       "      <th>open</th>\n",
       "      <th>high</th>\n",
       "      <th>low</th>\n",
       "      <th>close</th>\n",
       "      <th>volume</th>\n",
       "      <th>trade_count</th>\n",
       "      <th>vwap</th>\n",
       "    </tr>\n",
       "    <tr>\n",
       "      <th>timestamp</th>\n",
       "      <th></th>\n",
       "      <th></th>\n",
       "      <th></th>\n",
       "      <th></th>\n",
       "      <th></th>\n",
       "      <th></th>\n",
       "      <th></th>\n",
       "      <th></th>\n",
       "      <th></th>\n",
       "      <th></th>\n",
       "      <th></th>\n",
       "      <th></th>\n",
       "      <th></th>\n",
       "      <th></th>\n",
       "    </tr>\n",
       "  </thead>\n",
       "  <tbody>\n",
       "    <tr>\n",
       "      <th>2019-04-08 04:00:00+00:00</th>\n",
       "      <td>108.39</td>\n",
       "      <td>108.4000</td>\n",
       "      <td>108.300</td>\n",
       "      <td>108.34</td>\n",
       "      <td>9485306</td>\n",
       "      <td>20805</td>\n",
       "      <td>108.341416</td>\n",
       "      <td>288.10</td>\n",
       "      <td>288.9100</td>\n",
       "      <td>287.370</td>\n",
       "      <td>288.79</td>\n",
       "      <td>53726460</td>\n",
       "      <td>233825</td>\n",
       "      <td>288.325481</td>\n",
       "    </tr>\n",
       "    <tr>\n",
       "      <th>2019-04-09 04:00:00+00:00</th>\n",
       "      <td>108.47</td>\n",
       "      <td>108.5200</td>\n",
       "      <td>108.390</td>\n",
       "      <td>108.40</td>\n",
       "      <td>3753844</td>\n",
       "      <td>14155</td>\n",
       "      <td>108.433285</td>\n",
       "      <td>287.72</td>\n",
       "      <td>288.0800</td>\n",
       "      <td>286.700</td>\n",
       "      <td>287.31</td>\n",
       "      <td>66455332</td>\n",
       "      <td>271849</td>\n",
       "      <td>287.485967</td>\n",
       "    </tr>\n",
       "    <tr>\n",
       "      <th>2019-04-10 04:00:00+00:00</th>\n",
       "      <td>108.55</td>\n",
       "      <td>108.6367</td>\n",
       "      <td>108.495</td>\n",
       "      <td>108.61</td>\n",
       "      <td>4682782</td>\n",
       "      <td>13735</td>\n",
       "      <td>108.559902</td>\n",
       "      <td>287.77</td>\n",
       "      <td>288.3899</td>\n",
       "      <td>287.310</td>\n",
       "      <td>288.29</td>\n",
       "      <td>52754039</td>\n",
       "      <td>204506</td>\n",
       "      <td>287.884283</td>\n",
       "    </tr>\n",
       "    <tr>\n",
       "      <th>2019-04-11 04:00:00+00:00</th>\n",
       "      <td>108.53</td>\n",
       "      <td>108.5300</td>\n",
       "      <td>108.420</td>\n",
       "      <td>108.48</td>\n",
       "      <td>2827701</td>\n",
       "      <td>11884</td>\n",
       "      <td>108.476795</td>\n",
       "      <td>288.84</td>\n",
       "      <td>288.8400</td>\n",
       "      <td>287.578</td>\n",
       "      <td>288.21</td>\n",
       "      <td>55098100</td>\n",
       "      <td>205244</td>\n",
       "      <td>288.161064</td>\n",
       "    </tr>\n",
       "    <tr>\n",
       "      <th>2019-04-12 04:00:00+00:00</th>\n",
       "      <td>108.26</td>\n",
       "      <td>108.3500</td>\n",
       "      <td>108.220</td>\n",
       "      <td>108.27</td>\n",
       "      <td>2430609</td>\n",
       "      <td>11376</td>\n",
       "      <td>108.269606</td>\n",
       "      <td>290.01</td>\n",
       "      <td>290.4700</td>\n",
       "      <td>288.261</td>\n",
       "      <td>290.16</td>\n",
       "      <td>69835782</td>\n",
       "      <td>232166</td>\n",
       "      <td>289.776012</td>\n",
       "    </tr>\n",
       "  </tbody>\n",
       "</table>\n",
       "</div>"
      ],
      "text/plain": [
       "                              AGG                                      \\\n",
       "                             open      high      low   close   volume   \n",
       "timestamp                                                               \n",
       "2019-04-08 04:00:00+00:00  108.39  108.4000  108.300  108.34  9485306   \n",
       "2019-04-09 04:00:00+00:00  108.47  108.5200  108.390  108.40  3753844   \n",
       "2019-04-10 04:00:00+00:00  108.55  108.6367  108.495  108.61  4682782   \n",
       "2019-04-11 04:00:00+00:00  108.53  108.5300  108.420  108.48  2827701   \n",
       "2019-04-12 04:00:00+00:00  108.26  108.3500  108.220  108.27  2430609   \n",
       "\n",
       "                                                      SPY                     \\\n",
       "                          trade_count        vwap    open      high      low   \n",
       "timestamp                                                                      \n",
       "2019-04-08 04:00:00+00:00       20805  108.341416  288.10  288.9100  287.370   \n",
       "2019-04-09 04:00:00+00:00       14155  108.433285  287.72  288.0800  286.700   \n",
       "2019-04-10 04:00:00+00:00       13735  108.559902  287.77  288.3899  287.310   \n",
       "2019-04-11 04:00:00+00:00       11884  108.476795  288.84  288.8400  287.578   \n",
       "2019-04-12 04:00:00+00:00       11376  108.269606  290.01  290.4700  288.261   \n",
       "\n",
       "                                                                     \n",
       "                            close    volume trade_count        vwap  \n",
       "timestamp                                                            \n",
       "2019-04-08 04:00:00+00:00  288.79  53726460      233825  288.325481  \n",
       "2019-04-09 04:00:00+00:00  287.31  66455332      271849  287.485967  \n",
       "2019-04-10 04:00:00+00:00  288.29  52754039      204506  287.884283  \n",
       "2019-04-11 04:00:00+00:00  288.21  55098100      205244  288.161064  \n",
       "2019-04-12 04:00:00+00:00  290.16  69835782      232166  289.776012  "
      ]
     },
     "metadata": {},
     "output_type": "display_data"
    },
    {
     "data": {
      "text/html": [
       "<div>\n",
       "<style scoped>\n",
       "    .dataframe tbody tr th:only-of-type {\n",
       "        vertical-align: middle;\n",
       "    }\n",
       "\n",
       "    .dataframe tbody tr th {\n",
       "        vertical-align: top;\n",
       "    }\n",
       "\n",
       "    .dataframe thead tr th {\n",
       "        text-align: left;\n",
       "    }\n",
       "\n",
       "    .dataframe thead tr:last-of-type th {\n",
       "        text-align: right;\n",
       "    }\n",
       "</style>\n",
       "<table border=\"1\" class=\"dataframe\">\n",
       "  <thead>\n",
       "    <tr>\n",
       "      <th></th>\n",
       "      <th colspan=\"7\" halign=\"left\">AGG</th>\n",
       "      <th colspan=\"7\" halign=\"left\">SPY</th>\n",
       "    </tr>\n",
       "    <tr>\n",
       "      <th></th>\n",
       "      <th>open</th>\n",
       "      <th>high</th>\n",
       "      <th>low</th>\n",
       "      <th>close</th>\n",
       "      <th>volume</th>\n",
       "      <th>trade_count</th>\n",
       "      <th>vwap</th>\n",
       "      <th>open</th>\n",
       "      <th>high</th>\n",
       "      <th>low</th>\n",
       "      <th>close</th>\n",
       "      <th>volume</th>\n",
       "      <th>trade_count</th>\n",
       "      <th>vwap</th>\n",
       "    </tr>\n",
       "    <tr>\n",
       "      <th>timestamp</th>\n",
       "      <th></th>\n",
       "      <th></th>\n",
       "      <th></th>\n",
       "      <th></th>\n",
       "      <th></th>\n",
       "      <th></th>\n",
       "      <th></th>\n",
       "      <th></th>\n",
       "      <th></th>\n",
       "      <th></th>\n",
       "      <th></th>\n",
       "      <th></th>\n",
       "      <th></th>\n",
       "      <th></th>\n",
       "    </tr>\n",
       "  </thead>\n",
       "  <tbody>\n",
       "    <tr>\n",
       "      <th>2022-04-04 04:00:00+00:00</th>\n",
       "      <td>106.87</td>\n",
       "      <td>106.870</td>\n",
       "      <td>106.560</td>\n",
       "      <td>106.84</td>\n",
       "      <td>9956493</td>\n",
       "      <td>32544</td>\n",
       "      <td>106.739298</td>\n",
       "      <td>453.20</td>\n",
       "      <td>456.91</td>\n",
       "      <td>452.26</td>\n",
       "      <td>456.80</td>\n",
       "      <td>59663209</td>\n",
       "      <td>503316</td>\n",
       "      <td>455.309774</td>\n",
       "    </tr>\n",
       "    <tr>\n",
       "      <th>2022-04-05 04:00:00+00:00</th>\n",
       "      <td>106.60</td>\n",
       "      <td>106.625</td>\n",
       "      <td>105.740</td>\n",
       "      <td>105.76</td>\n",
       "      <td>11018430</td>\n",
       "      <td>34684</td>\n",
       "      <td>105.931526</td>\n",
       "      <td>455.23</td>\n",
       "      <td>457.83</td>\n",
       "      <td>449.82</td>\n",
       "      <td>451.03</td>\n",
       "      <td>74022189</td>\n",
       "      <td>644313</td>\n",
       "      <td>453.412462</td>\n",
       "    </tr>\n",
       "    <tr>\n",
       "      <th>2022-04-06 04:00:00+00:00</th>\n",
       "      <td>105.20</td>\n",
       "      <td>105.805</td>\n",
       "      <td>105.115</td>\n",
       "      <td>105.49</td>\n",
       "      <td>13322630</td>\n",
       "      <td>47090</td>\n",
       "      <td>105.463015</td>\n",
       "      <td>446.87</td>\n",
       "      <td>448.93</td>\n",
       "      <td>443.47</td>\n",
       "      <td>446.52</td>\n",
       "      <td>105592595</td>\n",
       "      <td>901634</td>\n",
       "      <td>446.345270</td>\n",
       "    </tr>\n",
       "    <tr>\n",
       "      <th>2022-04-07 04:00:00+00:00</th>\n",
       "      <td>105.38</td>\n",
       "      <td>105.510</td>\n",
       "      <td>105.130</td>\n",
       "      <td>105.26</td>\n",
       "      <td>7921117</td>\n",
       "      <td>25631</td>\n",
       "      <td>105.278761</td>\n",
       "      <td>445.67</td>\n",
       "      <td>450.69</td>\n",
       "      <td>443.53</td>\n",
       "      <td>448.77</td>\n",
       "      <td>77538519</td>\n",
       "      <td>628673</td>\n",
       "      <td>447.098209</td>\n",
       "    </tr>\n",
       "    <tr>\n",
       "      <th>2022-04-08 04:00:00+00:00</th>\n",
       "      <td>104.82</td>\n",
       "      <td>105.010</td>\n",
       "      <td>104.615</td>\n",
       "      <td>104.73</td>\n",
       "      <td>6501822</td>\n",
       "      <td>24900</td>\n",
       "      <td>104.804999</td>\n",
       "      <td>448.04</td>\n",
       "      <td>450.63</td>\n",
       "      <td>445.94</td>\n",
       "      <td>447.57</td>\n",
       "      <td>79148376</td>\n",
       "      <td>573491</td>\n",
       "      <td>448.250805</td>\n",
       "    </tr>\n",
       "  </tbody>\n",
       "</table>\n",
       "</div>"
      ],
      "text/plain": [
       "                              AGG                                      \\\n",
       "                             open     high      low   close    volume   \n",
       "timestamp                                                               \n",
       "2022-04-04 04:00:00+00:00  106.87  106.870  106.560  106.84   9956493   \n",
       "2022-04-05 04:00:00+00:00  106.60  106.625  105.740  105.76  11018430   \n",
       "2022-04-06 04:00:00+00:00  105.20  105.805  105.115  105.49  13322630   \n",
       "2022-04-07 04:00:00+00:00  105.38  105.510  105.130  105.26   7921117   \n",
       "2022-04-08 04:00:00+00:00  104.82  105.010  104.615  104.73   6501822   \n",
       "\n",
       "                                                      SPY                  \\\n",
       "                          trade_count        vwap    open    high     low   \n",
       "timestamp                                                                   \n",
       "2022-04-04 04:00:00+00:00       32544  106.739298  453.20  456.91  452.26   \n",
       "2022-04-05 04:00:00+00:00       34684  105.931526  455.23  457.83  449.82   \n",
       "2022-04-06 04:00:00+00:00       47090  105.463015  446.87  448.93  443.47   \n",
       "2022-04-07 04:00:00+00:00       25631  105.278761  445.67  450.69  443.53   \n",
       "2022-04-08 04:00:00+00:00       24900  104.804999  448.04  450.63  445.94   \n",
       "\n",
       "                                                                      \n",
       "                            close     volume trade_count        vwap  \n",
       "timestamp                                                             \n",
       "2022-04-04 04:00:00+00:00  456.80   59663209      503316  455.309774  \n",
       "2022-04-05 04:00:00+00:00  451.03   74022189      644313  453.412462  \n",
       "2022-04-06 04:00:00+00:00  446.52  105592595      901634  446.345270  \n",
       "2022-04-07 04:00:00+00:00  448.77   77538519      628673  447.098209  \n",
       "2022-04-08 04:00:00+00:00  447.57   79148376      573491  448.250805  "
      ]
     },
     "metadata": {},
     "output_type": "display_data"
    }
   ],
   "source": [
    "# Use the Alpaca get_bars function to make the API call to get the 3 years worth of pricing data\n",
    "# The tickers and timeframe parameters should have been set in Part 1 of this activity \n",
    "# The start and end dates should be updated with the information set above\n",
    "# Remember to add the df property to the end of the call so the response is returned as a DataFrame\n",
    "# YOUR CODE HERE\n",
    "prices_tickers_df_3_years = alpaca.get_bars(tickers,\n",
    "                                    timeframe,\n",
    "                                    limit=limit_rows,\n",
    "                                    start=start_date_3_years,\n",
    "                                    end=end_date_3_years\n",
    "                                   ).df\n",
    "display(prices_tickers_df_3_years.head())\n",
    "display(prices_tickers_df_3_years.tail())\n",
    "display(prices_tickers_df_3_years.shape)\n",
    "\n",
    "# Reorganize the DataFrame\n",
    "# Separate ticker data\n",
    "# YOUR CODE HERE\n",
    "AGG_3_years = prices_tickers_df_3_years[prices_tickers_df_3_years['symbol']=='AGG'].drop(columns='symbol')\n",
    "display(AGG_3_years.tail())\n",
    "display(AGG_3_years.shape)\n",
    "SPY_3_years = prices_tickers_df_3_years[prices_tickers_df_3_years['symbol']=='SPY'].drop(columns='symbol')\n",
    "display(SPY_3_years.tail())\n",
    "display(SPY_3_years.shape)\n",
    "\n",
    "\n",
    "# Concatenate the ticker DataFrames\n",
    "# YOUR CODE HERE\n",
    "prices_tickers_df_3_years_concat = pd.concat([AGG_3_years,SPY_3_years],axis=1,keys=['AGG','SPY'])\n",
    "\n",
    "# Display both the first and last five rows of the DataFrame\n",
    "# YOUR CODE HERE\n",
    "# YOUR CODE HERE\n",
    "display(prices_tickers_df_3_years_concat.head())\n",
    "display(prices_tickers_df_3_years_concat.tail())\n"
   ]
  },
  {
   "cell_type": "markdown",
   "metadata": {},
   "source": [
    "#### Step 2: Run a Monte Carlo simulation of 500 samples and 30 years for the 60/40 portfolio, and then plot the results."
   ]
  },
  {
   "cell_type": "code",
   "execution_count": 63,
   "metadata": {},
   "outputs": [
    {
     "data": {
      "text/html": [
       "<div>\n",
       "<style scoped>\n",
       "    .dataframe tbody tr th:only-of-type {\n",
       "        vertical-align: middle;\n",
       "    }\n",
       "\n",
       "    .dataframe tbody tr th {\n",
       "        vertical-align: top;\n",
       "    }\n",
       "\n",
       "    .dataframe thead tr th {\n",
       "        text-align: left;\n",
       "    }\n",
       "\n",
       "    .dataframe thead tr:last-of-type th {\n",
       "        text-align: right;\n",
       "    }\n",
       "</style>\n",
       "<table border=\"1\" class=\"dataframe\">\n",
       "  <thead>\n",
       "    <tr>\n",
       "      <th></th>\n",
       "      <th colspan=\"8\" halign=\"left\">AGG</th>\n",
       "      <th colspan=\"8\" halign=\"left\">SPY</th>\n",
       "    </tr>\n",
       "    <tr>\n",
       "      <th></th>\n",
       "      <th>open</th>\n",
       "      <th>high</th>\n",
       "      <th>low</th>\n",
       "      <th>close</th>\n",
       "      <th>volume</th>\n",
       "      <th>trade_count</th>\n",
       "      <th>vwap</th>\n",
       "      <th>daily_return</th>\n",
       "      <th>open</th>\n",
       "      <th>high</th>\n",
       "      <th>low</th>\n",
       "      <th>close</th>\n",
       "      <th>volume</th>\n",
       "      <th>trade_count</th>\n",
       "      <th>vwap</th>\n",
       "      <th>daily_return</th>\n",
       "    </tr>\n",
       "    <tr>\n",
       "      <th>timestamp</th>\n",
       "      <th></th>\n",
       "      <th></th>\n",
       "      <th></th>\n",
       "      <th></th>\n",
       "      <th></th>\n",
       "      <th></th>\n",
       "      <th></th>\n",
       "      <th></th>\n",
       "      <th></th>\n",
       "      <th></th>\n",
       "      <th></th>\n",
       "      <th></th>\n",
       "      <th></th>\n",
       "      <th></th>\n",
       "      <th></th>\n",
       "      <th></th>\n",
       "    </tr>\n",
       "  </thead>\n",
       "  <tbody>\n",
       "    <tr>\n",
       "      <th>2019-04-08 04:00:00+00:00</th>\n",
       "      <td>108.39</td>\n",
       "      <td>108.4000</td>\n",
       "      <td>108.300</td>\n",
       "      <td>108.34</td>\n",
       "      <td>9485306</td>\n",
       "      <td>20805</td>\n",
       "      <td>108.341416</td>\n",
       "      <td>NaN</td>\n",
       "      <td>288.10</td>\n",
       "      <td>288.9100</td>\n",
       "      <td>287.370</td>\n",
       "      <td>288.79</td>\n",
       "      <td>53726460</td>\n",
       "      <td>233825</td>\n",
       "      <td>288.325481</td>\n",
       "      <td>NaN</td>\n",
       "    </tr>\n",
       "    <tr>\n",
       "      <th>2019-04-09 04:00:00+00:00</th>\n",
       "      <td>108.47</td>\n",
       "      <td>108.5200</td>\n",
       "      <td>108.390</td>\n",
       "      <td>108.40</td>\n",
       "      <td>3753844</td>\n",
       "      <td>14155</td>\n",
       "      <td>108.433285</td>\n",
       "      <td>0.000554</td>\n",
       "      <td>287.72</td>\n",
       "      <td>288.0800</td>\n",
       "      <td>286.700</td>\n",
       "      <td>287.31</td>\n",
       "      <td>66455332</td>\n",
       "      <td>271849</td>\n",
       "      <td>287.485967</td>\n",
       "      <td>-0.005125</td>\n",
       "    </tr>\n",
       "    <tr>\n",
       "      <th>2019-04-10 04:00:00+00:00</th>\n",
       "      <td>108.55</td>\n",
       "      <td>108.6367</td>\n",
       "      <td>108.495</td>\n",
       "      <td>108.61</td>\n",
       "      <td>4682782</td>\n",
       "      <td>13735</td>\n",
       "      <td>108.559902</td>\n",
       "      <td>0.001937</td>\n",
       "      <td>287.77</td>\n",
       "      <td>288.3899</td>\n",
       "      <td>287.310</td>\n",
       "      <td>288.29</td>\n",
       "      <td>52754039</td>\n",
       "      <td>204506</td>\n",
       "      <td>287.884283</td>\n",
       "      <td>0.003411</td>\n",
       "    </tr>\n",
       "    <tr>\n",
       "      <th>2019-04-11 04:00:00+00:00</th>\n",
       "      <td>108.53</td>\n",
       "      <td>108.5300</td>\n",
       "      <td>108.420</td>\n",
       "      <td>108.48</td>\n",
       "      <td>2827701</td>\n",
       "      <td>11884</td>\n",
       "      <td>108.476795</td>\n",
       "      <td>-0.001197</td>\n",
       "      <td>288.84</td>\n",
       "      <td>288.8400</td>\n",
       "      <td>287.578</td>\n",
       "      <td>288.21</td>\n",
       "      <td>55098100</td>\n",
       "      <td>205244</td>\n",
       "      <td>288.161064</td>\n",
       "      <td>-0.000277</td>\n",
       "    </tr>\n",
       "    <tr>\n",
       "      <th>2019-04-12 04:00:00+00:00</th>\n",
       "      <td>108.26</td>\n",
       "      <td>108.3500</td>\n",
       "      <td>108.220</td>\n",
       "      <td>108.27</td>\n",
       "      <td>2430609</td>\n",
       "      <td>11376</td>\n",
       "      <td>108.269606</td>\n",
       "      <td>-0.001936</td>\n",
       "      <td>290.01</td>\n",
       "      <td>290.4700</td>\n",
       "      <td>288.261</td>\n",
       "      <td>290.16</td>\n",
       "      <td>69835782</td>\n",
       "      <td>232166</td>\n",
       "      <td>289.776012</td>\n",
       "      <td>0.006766</td>\n",
       "    </tr>\n",
       "  </tbody>\n",
       "</table>\n",
       "</div>"
      ],
      "text/plain": [
       "                              AGG                                      \\\n",
       "                             open      high      low   close   volume   \n",
       "timestamp                                                               \n",
       "2019-04-08 04:00:00+00:00  108.39  108.4000  108.300  108.34  9485306   \n",
       "2019-04-09 04:00:00+00:00  108.47  108.5200  108.390  108.40  3753844   \n",
       "2019-04-10 04:00:00+00:00  108.55  108.6367  108.495  108.61  4682782   \n",
       "2019-04-11 04:00:00+00:00  108.53  108.5300  108.420  108.48  2827701   \n",
       "2019-04-12 04:00:00+00:00  108.26  108.3500  108.220  108.27  2430609   \n",
       "\n",
       "                                                                   SPY  \\\n",
       "                          trade_count        vwap daily_return    open   \n",
       "timestamp                                                                \n",
       "2019-04-08 04:00:00+00:00       20805  108.341416          NaN  288.10   \n",
       "2019-04-09 04:00:00+00:00       14155  108.433285     0.000554  287.72   \n",
       "2019-04-10 04:00:00+00:00       13735  108.559902     0.001937  287.77   \n",
       "2019-04-11 04:00:00+00:00       11884  108.476795    -0.001197  288.84   \n",
       "2019-04-12 04:00:00+00:00       11376  108.269606    -0.001936  290.01   \n",
       "\n",
       "                                                                            \\\n",
       "                               high      low   close    volume trade_count   \n",
       "timestamp                                                                    \n",
       "2019-04-08 04:00:00+00:00  288.9100  287.370  288.79  53726460      233825   \n",
       "2019-04-09 04:00:00+00:00  288.0800  286.700  287.31  66455332      271849   \n",
       "2019-04-10 04:00:00+00:00  288.3899  287.310  288.29  52754039      204506   \n",
       "2019-04-11 04:00:00+00:00  288.8400  287.578  288.21  55098100      205244   \n",
       "2019-04-12 04:00:00+00:00  290.4700  288.261  290.16  69835782      232166   \n",
       "\n",
       "                                                    \n",
       "                                 vwap daily_return  \n",
       "timestamp                                           \n",
       "2019-04-08 04:00:00+00:00  288.325481          NaN  \n",
       "2019-04-09 04:00:00+00:00  287.485967    -0.005125  \n",
       "2019-04-10 04:00:00+00:00  287.884283     0.003411  \n",
       "2019-04-11 04:00:00+00:00  288.161064    -0.000277  \n",
       "2019-04-12 04:00:00+00:00  289.776012     0.006766  "
      ]
     },
     "execution_count": 63,
     "metadata": {},
     "output_type": "execute_result"
    }
   ],
   "source": [
    "# Configure the Monte Carlo simulation to forecast 30 years cumulative returns\n",
    "# The weights should be split 40% to AGG and 60% to SPY.\n",
    "# Run 500 samples.\n",
    "# YOUR CODE HERE\n",
    "MC_30_years = MCSimulation(portfolio_data=prices_tickers_df_3_years_concat,\n",
    "                           weights=[0.4,0.6],\n",
    "                           num_simulation=500,\n",
    "                           num_trading_days=252*30\n",
    "                          )\n",
    "\n",
    "# Review the simulation input data\n",
    "# YOUR CODE HERE\n",
    "MC_30_years.portfolio_data.head()\n"
   ]
  },
  {
   "cell_type": "code",
   "execution_count": 64,
   "metadata": {},
   "outputs": [
    {
     "name": "stdout",
     "output_type": "stream",
     "text": [
      "Running Monte Carlo simulation number 0.\n",
      "Running Monte Carlo simulation number 10.\n",
      "Running Monte Carlo simulation number 20.\n",
      "Running Monte Carlo simulation number 30.\n",
      "Running Monte Carlo simulation number 40.\n",
      "Running Monte Carlo simulation number 50.\n",
      "Running Monte Carlo simulation number 60.\n",
      "Running Monte Carlo simulation number 70.\n",
      "Running Monte Carlo simulation number 80.\n",
      "Running Monte Carlo simulation number 90.\n",
      "Running Monte Carlo simulation number 100.\n"
     ]
    },
    {
     "name": "stderr",
     "output_type": "stream",
     "text": [
      "/Users/taochen/Desktop/columbia_fintech/Challenge_5_API_MC_Simulation_Forcasting_Portfilio_Performance/MCForecastTools.py:117: PerformanceWarning: DataFrame is highly fragmented.  This is usually the result of calling `frame.insert` many times, which has poor performance.  Consider joining all columns at once using pd.concat(axis=1) instead.  To get a de-fragmented frame, use `newframe = frame.copy()`\n",
      "  portfolio_cumulative_returns[n] = (1 + sim_df.fillna(0)).cumprod()\n"
     ]
    },
    {
     "name": "stdout",
     "output_type": "stream",
     "text": [
      "Running Monte Carlo simulation number 110.\n",
      "Running Monte Carlo simulation number 120.\n",
      "Running Monte Carlo simulation number 130.\n",
      "Running Monte Carlo simulation number 140.\n",
      "Running Monte Carlo simulation number 150.\n",
      "Running Monte Carlo simulation number 160.\n",
      "Running Monte Carlo simulation number 170.\n",
      "Running Monte Carlo simulation number 180.\n",
      "Running Monte Carlo simulation number 190.\n",
      "Running Monte Carlo simulation number 200.\n",
      "Running Monte Carlo simulation number 210.\n",
      "Running Monte Carlo simulation number 220.\n",
      "Running Monte Carlo simulation number 230.\n",
      "Running Monte Carlo simulation number 240.\n",
      "Running Monte Carlo simulation number 250.\n",
      "Running Monte Carlo simulation number 260.\n",
      "Running Monte Carlo simulation number 270.\n",
      "Running Monte Carlo simulation number 280.\n",
      "Running Monte Carlo simulation number 290.\n",
      "Running Monte Carlo simulation number 300.\n",
      "Running Monte Carlo simulation number 310.\n",
      "Running Monte Carlo simulation number 320.\n",
      "Running Monte Carlo simulation number 330.\n",
      "Running Monte Carlo simulation number 340.\n",
      "Running Monte Carlo simulation number 350.\n",
      "Running Monte Carlo simulation number 360.\n",
      "Running Monte Carlo simulation number 370.\n",
      "Running Monte Carlo simulation number 380.\n",
      "Running Monte Carlo simulation number 390.\n",
      "Running Monte Carlo simulation number 400.\n",
      "Running Monte Carlo simulation number 410.\n",
      "Running Monte Carlo simulation number 420.\n",
      "Running Monte Carlo simulation number 430.\n",
      "Running Monte Carlo simulation number 440.\n",
      "Running Monte Carlo simulation number 450.\n",
      "Running Monte Carlo simulation number 460.\n",
      "Running Monte Carlo simulation number 470.\n",
      "Running Monte Carlo simulation number 480.\n",
      "Running Monte Carlo simulation number 490.\n"
     ]
    },
    {
     "data": {
      "text/html": [
       "<div>\n",
       "<style scoped>\n",
       "    .dataframe tbody tr th:only-of-type {\n",
       "        vertical-align: middle;\n",
       "    }\n",
       "\n",
       "    .dataframe tbody tr th {\n",
       "        vertical-align: top;\n",
       "    }\n",
       "\n",
       "    .dataframe thead th {\n",
       "        text-align: right;\n",
       "    }\n",
       "</style>\n",
       "<table border=\"1\" class=\"dataframe\">\n",
       "  <thead>\n",
       "    <tr style=\"text-align: right;\">\n",
       "      <th></th>\n",
       "      <th>0</th>\n",
       "      <th>1</th>\n",
       "      <th>2</th>\n",
       "      <th>3</th>\n",
       "      <th>4</th>\n",
       "      <th>5</th>\n",
       "      <th>6</th>\n",
       "      <th>7</th>\n",
       "      <th>8</th>\n",
       "      <th>9</th>\n",
       "      <th>...</th>\n",
       "      <th>490</th>\n",
       "      <th>491</th>\n",
       "      <th>492</th>\n",
       "      <th>493</th>\n",
       "      <th>494</th>\n",
       "      <th>495</th>\n",
       "      <th>496</th>\n",
       "      <th>497</th>\n",
       "      <th>498</th>\n",
       "      <th>499</th>\n",
       "    </tr>\n",
       "  </thead>\n",
       "  <tbody>\n",
       "    <tr>\n",
       "      <th>0</th>\n",
       "      <td>1.000000</td>\n",
       "      <td>1.000000</td>\n",
       "      <td>1.000000</td>\n",
       "      <td>1.000000</td>\n",
       "      <td>1.000000</td>\n",
       "      <td>1.000000</td>\n",
       "      <td>1.000000</td>\n",
       "      <td>1.000000</td>\n",
       "      <td>1.000000</td>\n",
       "      <td>1.000000</td>\n",
       "      <td>...</td>\n",
       "      <td>1.000000</td>\n",
       "      <td>1.000000</td>\n",
       "      <td>1.000000</td>\n",
       "      <td>1.000000</td>\n",
       "      <td>1.000000</td>\n",
       "      <td>1.000000</td>\n",
       "      <td>1.000000</td>\n",
       "      <td>1.000000</td>\n",
       "      <td>1.000000</td>\n",
       "      <td>1.000000</td>\n",
       "    </tr>\n",
       "    <tr>\n",
       "      <th>1</th>\n",
       "      <td>1.004695</td>\n",
       "      <td>1.009955</td>\n",
       "      <td>0.994053</td>\n",
       "      <td>0.984533</td>\n",
       "      <td>0.999923</td>\n",
       "      <td>0.993403</td>\n",
       "      <td>1.021765</td>\n",
       "      <td>0.996199</td>\n",
       "      <td>0.997207</td>\n",
       "      <td>0.994970</td>\n",
       "      <td>...</td>\n",
       "      <td>0.992611</td>\n",
       "      <td>1.016103</td>\n",
       "      <td>1.000804</td>\n",
       "      <td>0.994505</td>\n",
       "      <td>1.013440</td>\n",
       "      <td>0.998165</td>\n",
       "      <td>0.987330</td>\n",
       "      <td>1.005305</td>\n",
       "      <td>1.007417</td>\n",
       "      <td>1.011183</td>\n",
       "    </tr>\n",
       "    <tr>\n",
       "      <th>2</th>\n",
       "      <td>1.013434</td>\n",
       "      <td>1.008397</td>\n",
       "      <td>0.993696</td>\n",
       "      <td>0.974016</td>\n",
       "      <td>0.997190</td>\n",
       "      <td>0.998983</td>\n",
       "      <td>1.020021</td>\n",
       "      <td>1.001205</td>\n",
       "      <td>1.010819</td>\n",
       "      <td>1.004185</td>\n",
       "      <td>...</td>\n",
       "      <td>0.991122</td>\n",
       "      <td>1.019523</td>\n",
       "      <td>1.008632</td>\n",
       "      <td>0.985200</td>\n",
       "      <td>0.997911</td>\n",
       "      <td>1.004319</td>\n",
       "      <td>0.981328</td>\n",
       "      <td>1.017176</td>\n",
       "      <td>1.003374</td>\n",
       "      <td>1.014435</td>\n",
       "    </tr>\n",
       "    <tr>\n",
       "      <th>3</th>\n",
       "      <td>1.004960</td>\n",
       "      <td>1.011108</td>\n",
       "      <td>0.990427</td>\n",
       "      <td>0.982292</td>\n",
       "      <td>0.984857</td>\n",
       "      <td>0.995694</td>\n",
       "      <td>1.022137</td>\n",
       "      <td>1.000327</td>\n",
       "      <td>1.013438</td>\n",
       "      <td>0.994299</td>\n",
       "      <td>...</td>\n",
       "      <td>0.989481</td>\n",
       "      <td>1.044986</td>\n",
       "      <td>1.020077</td>\n",
       "      <td>0.988080</td>\n",
       "      <td>1.001371</td>\n",
       "      <td>0.990880</td>\n",
       "      <td>0.981222</td>\n",
       "      <td>1.014224</td>\n",
       "      <td>1.002780</td>\n",
       "      <td>1.014972</td>\n",
       "    </tr>\n",
       "    <tr>\n",
       "      <th>4</th>\n",
       "      <td>1.008398</td>\n",
       "      <td>1.024082</td>\n",
       "      <td>0.990726</td>\n",
       "      <td>0.990386</td>\n",
       "      <td>0.995204</td>\n",
       "      <td>0.990585</td>\n",
       "      <td>1.037899</td>\n",
       "      <td>0.987776</td>\n",
       "      <td>1.032911</td>\n",
       "      <td>1.010371</td>\n",
       "      <td>...</td>\n",
       "      <td>0.991158</td>\n",
       "      <td>1.050572</td>\n",
       "      <td>1.029769</td>\n",
       "      <td>0.989052</td>\n",
       "      <td>0.998833</td>\n",
       "      <td>0.984283</td>\n",
       "      <td>0.980085</td>\n",
       "      <td>1.018052</td>\n",
       "      <td>1.013521</td>\n",
       "      <td>1.008655</td>\n",
       "    </tr>\n",
       "    <tr>\n",
       "      <th>...</th>\n",
       "      <td>...</td>\n",
       "      <td>...</td>\n",
       "      <td>...</td>\n",
       "      <td>...</td>\n",
       "      <td>...</td>\n",
       "      <td>...</td>\n",
       "      <td>...</td>\n",
       "      <td>...</td>\n",
       "      <td>...</td>\n",
       "      <td>...</td>\n",
       "      <td>...</td>\n",
       "      <td>...</td>\n",
       "      <td>...</td>\n",
       "      <td>...</td>\n",
       "      <td>...</td>\n",
       "      <td>...</td>\n",
       "      <td>...</td>\n",
       "      <td>...</td>\n",
       "      <td>...</td>\n",
       "      <td>...</td>\n",
       "      <td>...</td>\n",
       "    </tr>\n",
       "    <tr>\n",
       "      <th>7556</th>\n",
       "      <td>10.742970</td>\n",
       "      <td>37.552326</td>\n",
       "      <td>24.170462</td>\n",
       "      <td>13.292477</td>\n",
       "      <td>12.081838</td>\n",
       "      <td>17.698786</td>\n",
       "      <td>30.082926</td>\n",
       "      <td>11.917129</td>\n",
       "      <td>311.444420</td>\n",
       "      <td>29.916400</td>\n",
       "      <td>...</td>\n",
       "      <td>15.258688</td>\n",
       "      <td>6.688886</td>\n",
       "      <td>25.870821</td>\n",
       "      <td>5.728130</td>\n",
       "      <td>22.710602</td>\n",
       "      <td>17.710181</td>\n",
       "      <td>13.819093</td>\n",
       "      <td>38.496358</td>\n",
       "      <td>8.349207</td>\n",
       "      <td>22.286040</td>\n",
       "    </tr>\n",
       "    <tr>\n",
       "      <th>7557</th>\n",
       "      <td>10.690800</td>\n",
       "      <td>37.626410</td>\n",
       "      <td>24.432951</td>\n",
       "      <td>13.214487</td>\n",
       "      <td>12.083510</td>\n",
       "      <td>17.807721</td>\n",
       "      <td>30.334385</td>\n",
       "      <td>11.813194</td>\n",
       "      <td>314.551416</td>\n",
       "      <td>29.762454</td>\n",
       "      <td>...</td>\n",
       "      <td>15.348988</td>\n",
       "      <td>6.708126</td>\n",
       "      <td>25.705225</td>\n",
       "      <td>5.795640</td>\n",
       "      <td>22.820225</td>\n",
       "      <td>17.843501</td>\n",
       "      <td>13.557516</td>\n",
       "      <td>38.326482</td>\n",
       "      <td>8.149594</td>\n",
       "      <td>22.399666</td>\n",
       "    </tr>\n",
       "    <tr>\n",
       "      <th>7558</th>\n",
       "      <td>10.635471</td>\n",
       "      <td>37.550947</td>\n",
       "      <td>24.727794</td>\n",
       "      <td>13.236573</td>\n",
       "      <td>12.158657</td>\n",
       "      <td>17.975510</td>\n",
       "      <td>29.892312</td>\n",
       "      <td>11.998032</td>\n",
       "      <td>314.335190</td>\n",
       "      <td>30.158425</td>\n",
       "      <td>...</td>\n",
       "      <td>15.371826</td>\n",
       "      <td>6.709330</td>\n",
       "      <td>25.623970</td>\n",
       "      <td>5.735065</td>\n",
       "      <td>22.583092</td>\n",
       "      <td>17.789827</td>\n",
       "      <td>13.627365</td>\n",
       "      <td>38.062551</td>\n",
       "      <td>8.157098</td>\n",
       "      <td>22.576720</td>\n",
       "    </tr>\n",
       "    <tr>\n",
       "      <th>7559</th>\n",
       "      <td>10.512501</td>\n",
       "      <td>37.634186</td>\n",
       "      <td>24.543405</td>\n",
       "      <td>13.256865</td>\n",
       "      <td>12.089234</td>\n",
       "      <td>17.961303</td>\n",
       "      <td>29.652624</td>\n",
       "      <td>12.071142</td>\n",
       "      <td>316.513866</td>\n",
       "      <td>30.032472</td>\n",
       "      <td>...</td>\n",
       "      <td>15.412348</td>\n",
       "      <td>6.726981</td>\n",
       "      <td>25.592785</td>\n",
       "      <td>5.708553</td>\n",
       "      <td>22.851978</td>\n",
       "      <td>17.899869</td>\n",
       "      <td>13.773026</td>\n",
       "      <td>37.817211</td>\n",
       "      <td>8.154965</td>\n",
       "      <td>22.422311</td>\n",
       "    </tr>\n",
       "    <tr>\n",
       "      <th>7560</th>\n",
       "      <td>10.585947</td>\n",
       "      <td>37.075251</td>\n",
       "      <td>24.431510</td>\n",
       "      <td>13.431466</td>\n",
       "      <td>12.016065</td>\n",
       "      <td>18.068596</td>\n",
       "      <td>29.879311</td>\n",
       "      <td>11.988541</td>\n",
       "      <td>317.423837</td>\n",
       "      <td>29.863727</td>\n",
       "      <td>...</td>\n",
       "      <td>15.360278</td>\n",
       "      <td>6.725675</td>\n",
       "      <td>25.353669</td>\n",
       "      <td>5.726686</td>\n",
       "      <td>22.735620</td>\n",
       "      <td>17.831301</td>\n",
       "      <td>13.924102</td>\n",
       "      <td>37.631046</td>\n",
       "      <td>8.148668</td>\n",
       "      <td>22.242037</td>\n",
       "    </tr>\n",
       "  </tbody>\n",
       "</table>\n",
       "<p>7561 rows × 500 columns</p>\n",
       "</div>"
      ],
      "text/plain": [
       "            0          1          2          3          4          5    \\\n",
       "0      1.000000   1.000000   1.000000   1.000000   1.000000   1.000000   \n",
       "1      1.004695   1.009955   0.994053   0.984533   0.999923   0.993403   \n",
       "2      1.013434   1.008397   0.993696   0.974016   0.997190   0.998983   \n",
       "3      1.004960   1.011108   0.990427   0.982292   0.984857   0.995694   \n",
       "4      1.008398   1.024082   0.990726   0.990386   0.995204   0.990585   \n",
       "...         ...        ...        ...        ...        ...        ...   \n",
       "7556  10.742970  37.552326  24.170462  13.292477  12.081838  17.698786   \n",
       "7557  10.690800  37.626410  24.432951  13.214487  12.083510  17.807721   \n",
       "7558  10.635471  37.550947  24.727794  13.236573  12.158657  17.975510   \n",
       "7559  10.512501  37.634186  24.543405  13.256865  12.089234  17.961303   \n",
       "7560  10.585947  37.075251  24.431510  13.431466  12.016065  18.068596   \n",
       "\n",
       "            6          7           8          9    ...        490       491  \\\n",
       "0      1.000000   1.000000    1.000000   1.000000  ...   1.000000  1.000000   \n",
       "1      1.021765   0.996199    0.997207   0.994970  ...   0.992611  1.016103   \n",
       "2      1.020021   1.001205    1.010819   1.004185  ...   0.991122  1.019523   \n",
       "3      1.022137   1.000327    1.013438   0.994299  ...   0.989481  1.044986   \n",
       "4      1.037899   0.987776    1.032911   1.010371  ...   0.991158  1.050572   \n",
       "...         ...        ...         ...        ...  ...        ...       ...   \n",
       "7556  30.082926  11.917129  311.444420  29.916400  ...  15.258688  6.688886   \n",
       "7557  30.334385  11.813194  314.551416  29.762454  ...  15.348988  6.708126   \n",
       "7558  29.892312  11.998032  314.335190  30.158425  ...  15.371826  6.709330   \n",
       "7559  29.652624  12.071142  316.513866  30.032472  ...  15.412348  6.726981   \n",
       "7560  29.879311  11.988541  317.423837  29.863727  ...  15.360278  6.725675   \n",
       "\n",
       "            492       493        494        495        496        497  \\\n",
       "0      1.000000  1.000000   1.000000   1.000000   1.000000   1.000000   \n",
       "1      1.000804  0.994505   1.013440   0.998165   0.987330   1.005305   \n",
       "2      1.008632  0.985200   0.997911   1.004319   0.981328   1.017176   \n",
       "3      1.020077  0.988080   1.001371   0.990880   0.981222   1.014224   \n",
       "4      1.029769  0.989052   0.998833   0.984283   0.980085   1.018052   \n",
       "...         ...       ...        ...        ...        ...        ...   \n",
       "7556  25.870821  5.728130  22.710602  17.710181  13.819093  38.496358   \n",
       "7557  25.705225  5.795640  22.820225  17.843501  13.557516  38.326482   \n",
       "7558  25.623970  5.735065  22.583092  17.789827  13.627365  38.062551   \n",
       "7559  25.592785  5.708553  22.851978  17.899869  13.773026  37.817211   \n",
       "7560  25.353669  5.726686  22.735620  17.831301  13.924102  37.631046   \n",
       "\n",
       "           498        499  \n",
       "0     1.000000   1.000000  \n",
       "1     1.007417   1.011183  \n",
       "2     1.003374   1.014435  \n",
       "3     1.002780   1.014972  \n",
       "4     1.013521   1.008655  \n",
       "...        ...        ...  \n",
       "7556  8.349207  22.286040  \n",
       "7557  8.149594  22.399666  \n",
       "7558  8.157098  22.576720  \n",
       "7559  8.154965  22.422311  \n",
       "7560  8.148668  22.242037  \n",
       "\n",
       "[7561 rows x 500 columns]"
      ]
     },
     "execution_count": 64,
     "metadata": {},
     "output_type": "execute_result"
    }
   ],
   "source": [
    "# Run the Monte Carlo simulation to forecast 30 years cumulative returns\n",
    "# YOUR CODE HERE\n",
    "MC_30_years.calc_cumulative_return()"
   ]
  },
  {
   "cell_type": "code",
   "execution_count": 65,
   "metadata": {},
   "outputs": [
    {
     "data": {
      "image/png": "[encoded data removed]",
      "text/plain": [
       "<Figure size 432x288 with 1 Axes>"
      ]
     },
     "metadata": {
      "needs_background": "light"
     },
     "output_type": "display_data"
    }
   ],
   "source": [
    "# Visualize the 30-year Monte Carlo simulation by creating an\n",
    "# overlay line plot\n",
    "# YOUR CODE HERE\n",
    "MC_sim_line_plot = MC_30_years.plot_simulation()\n"
   ]
  },
  {
   "cell_type": "markdown",
   "metadata": {},
   "source": [
    "#### Step 3: Plot the probability distribution of the Monte Carlo simulation."
   ]
  },
  {
   "cell_type": "code",
   "execution_count": 66,
   "metadata": {},
   "outputs": [
    {
     "data": {
      "image/png": "[encoded data removed]",
      "text/plain": [
       "<Figure size 432x288 with 1 Axes>"
      ]
     },
     "metadata": {
      "needs_background": "light"
     },
     "output_type": "display_data"
    }
   ],
   "source": [
    "# Visualize the probability distribution of the 30-year Monte Carlo simulation \n",
    "# by plotting a histogram\n",
    "# YOUR CODE HERE\n",
    "MC_sim_dis_plot = MC_30_years.plot_distribution()\n",
    "\n"
   ]
  },
  {
   "cell_type": "markdown",
   "metadata": {},
   "source": [
    "#### Step 4: Generate the summary statistics for the Monte Carlo simulation."
   ]
  },
  {
   "cell_type": "code",
   "execution_count": 67,
   "metadata": {},
   "outputs": [
    {
     "data": {
      "text/plain": [
       "count           500.000000\n",
       "mean             19.938984\n",
       "std              21.035024\n",
       "min               1.956991\n",
       "25%               8.816681\n",
       "50%              14.483346\n",
       "75%              25.226198\n",
       "max             317.423837\n",
       "95% CI Lower      3.070457\n",
       "95% CI Upper     58.975827\n",
       "Name: 7560, dtype: float64"
      ]
     },
     "execution_count": 67,
     "metadata": {},
     "output_type": "execute_result"
    }
   ],
   "source": [
    "# Generate summary statistics from the 30-year Monte Carlo simulation results\n",
    "# Save the results as a variable\n",
    "# YOUR CODE HERE\n",
    "MC_summary_statsitics = MC_30_years.summarize_cumulative_return()\n",
    "\n",
    "\n",
    "# Review the 30-year Monte Carlo summary statistics\n",
    "# YOUR CODE HERE\n",
    "MC_summary_statsitics"
   ]
  },
  {
   "cell_type": "markdown",
   "metadata": {},
   "source": [
    "### Analyze the Retirement Portfolio Forecasts\n",
    "\n",
    "Using the current value of only the stock and bond portion of the member's portfolio and the summary statistics that you generated from the Monte Carlo simulation, answer the following question in your Jupyter notebook:\n",
    "\n",
    "-  What are the lower and upper bounds for the expected value of the portfolio with a 95% confidence interval?\n"
   ]
  },
  {
   "cell_type": "code",
   "execution_count": 35,
   "metadata": {},
   "outputs": [
    {
     "data": {
      "text/plain": [
       "70178.7"
      ]
     },
     "execution_count": 35,
     "metadata": {},
     "output_type": "execute_result"
    }
   ],
   "source": [
    "# Print the current balance of the stock and bond portion of the members portfolio\n",
    "# YOUR CODE HERE\n",
    "total_stocks_bonds\n"
   ]
  },
  {
   "cell_type": "code",
   "execution_count": 36,
   "metadata": {},
   "outputs": [
    {
     "data": {
      "text/plain": [
       "224599.58938408573"
      ]
     },
     "metadata": {},
     "output_type": "display_data"
    },
    {
     "data": {
      "text/plain": [
       "4551816.737583724"
      ]
     },
     "metadata": {},
     "output_type": "display_data"
    }
   ],
   "source": [
    "# Use the lower and upper `95%` confidence intervals to calculate the range of the possible outcomes for the current stock/bond portfolio\n",
    "ci_lower_thirty_cumulative_return = MC_summary_statsitics[8]*total_stocks_bonds\n",
    "ci_upper_thirty_cumulative_return = MC_summary_statsitics[9]*total_stocks_bonds\n",
    "\n",
    "# Print the result of your calculations\n",
    "display(ci_lower_thirty_cumulative_return)\n",
    "display(ci_upper_thirty_cumulative_return)\n"
   ]
  },
  {
   "cell_type": "markdown",
   "metadata": {},
   "source": [
    "### Forecast Cumulative Returns in 10 Years\n",
    "\n",
    "The CTO of the credit union is impressed with your work on these planning tools but wonders if 30 years is a long time to wait until retirement. So, your next task is to adjust the retirement portfolio and run a new Monte Carlo simulation to find out if the changes will allow members to retire earlier.\n",
    "\n",
    "For this new Monte Carlo simulation, do the following: \n",
    "\n",
    "- Forecast the cumulative returns for 10 years from now. Because of the shortened investment horizon (30 years to 10 years), the portfolio needs to invest more heavily in the riskier asset&mdash;that is, stock&mdash;to help accumulate wealth for retirement. \n",
    "\n",
    "- Adjust the weights of the retirement portfolio so that the composition for the Monte Carlo simulation consists of 20% bonds and 80% stocks. \n",
    "\n",
    "- Run the simulation over 500 samples, and use the same data that the API call to Alpaca generated.\n",
    "\n",
    "- Based on the new Monte Carlo simulation, answer the following questions in your Jupyter notebook:\n",
    "\n",
    "    - Using the current value of only the stock and bond portion of the member's portfolio and the summary statistics that you generated from the new Monte Carlo simulation, what are the lower and upper bounds for the expected value of the portfolio (with the new weights) with a 95% confidence interval?\n",
    "\n",
    "    - Will weighting the portfolio more heavily toward stocks allow the credit union members to retire after only 10 years?\n"
   ]
  },
  {
   "cell_type": "code",
   "execution_count": 37,
   "metadata": {},
   "outputs": [],
   "source": [
    "# Configure a Monte Carlo simulation to forecast 10 years cumulative returns\n",
    "# The weights should be split 20% to AGG and 80% to SPY.\n",
    "# Run 500 samples.\n",
    "# YOUR CODE HERE\n",
    "\n",
    "# Review the simulation input data\n",
    "# YOUR CODE HERE\n"
   ]
  },
  {
   "cell_type": "code",
   "execution_count": 38,
   "metadata": {},
   "outputs": [],
   "source": [
    "# Run the Monte Carlo simulation to forecast 10 years cumulative returns\n",
    "# YOUR CODE HERE\n"
   ]
  },
  {
   "cell_type": "code",
   "execution_count": 39,
   "metadata": {},
   "outputs": [],
   "source": [
    "# Visualize the 10-year Monte Carlo simulation by creating an\n",
    "# overlay line plot\n",
    "# YOUR CODE HERE\n"
   ]
  },
  {
   "cell_type": "code",
   "execution_count": 40,
   "metadata": {},
   "outputs": [],
   "source": [
    "# Visualize the probability distribution of the 10-year Monte Carlo simulation \n",
    "# by plotting a histogram\n",
    "# YOUR CODE HERE\n"
   ]
  },
  {
   "cell_type": "code",
   "execution_count": 41,
   "metadata": {},
   "outputs": [],
   "source": [
    "# Generate summary statistics from the 10-year Monte Carlo simulation results\n",
    "# Save the results as a variable\n",
    "# YOUR CODE HERE\n",
    "\n",
    "\n",
    "# Review the 10-year Monte Carlo summary statistics\n",
    "# YOUR CODE HERE"
   ]
  },
  {
   "cell_type": "markdown",
   "metadata": {},
   "source": [
    "### Answer the following questions:"
   ]
  },
  {
   "cell_type": "markdown",
   "metadata": {},
   "source": [
    "#### Question: Using the current value of only the stock and bond portion of the member's portfolio and the summary statistics that you generated from the new Monte Carlo simulation, what are the lower and upper bounds for the expected value of the portfolio (with the new weights) with a 95% confidence interval?"
   ]
  },
  {
   "cell_type": "code",
   "execution_count": 42,
   "metadata": {},
   "outputs": [],
   "source": [
    "# Print the current balance of the stock and bond portion of the members portfolio\n",
    "# YOUR CODE HERE\n"
   ]
  },
  {
   "cell_type": "code",
   "execution_count": 43,
   "metadata": {},
   "outputs": [
    {
     "ename": "SyntaxError",
     "evalue": "invalid syntax (3813851687.py, line 2)",
     "output_type": "error",
     "traceback": [
      "\u001b[0;36m  File \u001b[0;32m\"/var/folders/hh/4tbtrky94cv9lf2n8h1wxh1c0000gn/T/ipykernel_90167/3813851687.py\"\u001b[0;36m, line \u001b[0;32m2\u001b[0m\n\u001b[0;31m    ci_lower_ten_cumulative_return = # YOUR CODE HERE\u001b[0m\n\u001b[0m                                                     ^\u001b[0m\n\u001b[0;31mSyntaxError\u001b[0m\u001b[0;31m:\u001b[0m invalid syntax\n"
     ]
    }
   ],
   "source": [
    "# Use the lower and upper `95%` confidence intervals to calculate the range of the possible outcomes for the current stock/bond portfolio\n",
    "ci_lower_ten_cumulative_return = # YOUR CODE HERE\n",
    "ci_upper_ten_cumulative_return = # YOUR CODE HERE\n",
    "\n",
    "# Print the result of your calculations\n",
    "# YOUR CODE HERE\n"
   ]
  },
  {
   "cell_type": "markdown",
   "metadata": {},
   "source": [
    "#### Question: Will weighting the portfolio more heavily to stocks allow the credit union members to retire after only 10 years?"
   ]
  },
  {
   "cell_type": "raw",
   "metadata": {},
   "source": [
    "**Answer** # YOUR ANSWER HERE"
   ]
  },
  {
   "cell_type": "code",
   "execution_count": null,
   "metadata": {},
   "outputs": [],
   "source": []
  }
 ],
 "metadata": {
  "kernelspec": {
   "display_name": "dev",
   "language": "python",
   "name": "dev"
  },
  "language_info": {
   "codemirror_mode": {
    "name": "ipython",
    "version": 3
   },
   "file_extension": ".py",
   "mimetype": "text/x-python",
   "name": "python",
   "nbconvert_exporter": "python",
   "pygments_lexer": "ipython3",
   "version": "3.7.11"
  }
 },
 "nbformat": 4,
 "nbformat_minor": 4
}
